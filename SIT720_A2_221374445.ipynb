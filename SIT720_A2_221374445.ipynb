{
 "cells": [
  {
   "cell_type": "code",
   "execution_count": 1,
   "id": "0167b116",
   "metadata": {},
   "outputs": [],
   "source": [
    "#1. Determine the number of subgroups from the dataset using attributes 3 to 205 i.e., exclude attributes 1, 2 and 206. Is this number same as number of classes presented by attribute 206? Explain and justify your findings."
   ]
  },
  {
   "cell_type": "code",
   "execution_count": 2,
   "id": "d171c36d",
   "metadata": {},
   "outputs": [
    {
     "name": "stdout",
     "output_type": "stream",
     "text": [
      "    Gender  Age  d 5100-0  d 5100-1  d 5100-2  d 5100-3  d 5100-4  d 5100-8  \\\n",
      "0        0   18         0         0         0         0         1         0   \n",
      "1        0   22         0         0         0         0         1         0   \n",
      "2        0   18         0         0         0         1         0         0   \n",
      "3        1   18         0         0         0         0         1         0   \n",
      "4        0   19         0         0         0         0         1         0   \n",
      "..     ...  ...       ...       ...       ...       ...       ...       ...   \n",
      "65       1   15         0         0         1         0         0         0   \n",
      "66       0    9         0         0         1         0         0         0   \n",
      "67       1    8         0         0         0         1         0         0   \n",
      "68       1    8         0         0         0         1         0         0   \n",
      "69       1   14         0         0         0         1         0         0   \n",
      "\n",
      "    d 5100-9  d 5101-0  ...  d 57022-8  d 57022-9  d 571-0  d 571-1  d 571-2  \\\n",
      "0          0         0  ...          0          0        0        0        0   \n",
      "1          0         0  ...          0          0        0        0        0   \n",
      "2          0         0  ...          0          0        0        0        0   \n",
      "3          0         0  ...          0          0        0        0        1   \n",
      "4          0         0  ...          0          0        0        0        1   \n",
      "..       ...       ...  ...        ...        ...      ...      ...      ...   \n",
      "65         0         0  ...          0          0        0        1        0   \n",
      "66         0         0  ...          0          0        1        0        0   \n",
      "67         0         0  ...          0          0        0        0        1   \n",
      "68         0         0  ...          0          0        0        0        0   \n",
      "69         0         0  ...          0          0        0        0        1   \n",
      "\n",
      "    d 571-3  d 571-4  d 571-8  d 571-9  Classes  \n",
      "0         0        1        0        0   class6  \n",
      "1         1        0        0        0   class6  \n",
      "2         1        0        0        0   class6  \n",
      "3         0        0        0        0   class6  \n",
      "4         0        0        0        0   class6  \n",
      "..      ...      ...      ...      ...      ...  \n",
      "65        0        0        0        0   class4  \n",
      "66        0        0        0        0   class3  \n",
      "67        0        0        0        0   class6  \n",
      "68        1        0        0        0   class6  \n",
      "69        0        0        0        0   class6  \n",
      "\n",
      "[70 rows x 206 columns]\n"
     ]
    }
   ],
   "source": [
    "import pandas as pd\n",
    "data= pd.read_csv(\"dataset.csv\")\n",
    "print(data)"
   ]
  },
  {
   "cell_type": "code",
   "execution_count": 3,
   "id": "90ac4dbe",
   "metadata": {},
   "outputs": [
    {
     "name": "stdout",
     "output_type": "stream",
     "text": [
      "    d 5100-0  d 5100-1  d 5100-2  d 5100-3  d 5100-4  d 5100-8  d 5100-9  \\\n",
      "0          0         0         0         0         1         0         0   \n",
      "1          0         0         0         0         1         0         0   \n",
      "2          0         0         0         1         0         0         0   \n",
      "3          0         0         0         0         1         0         0   \n",
      "4          0         0         0         0         1         0         0   \n",
      "..       ...       ...       ...       ...       ...       ...       ...   \n",
      "65         0         0         1         0         0         0         0   \n",
      "66         0         0         1         0         0         0         0   \n",
      "67         0         0         0         1         0         0         0   \n",
      "68         0         0         0         1         0         0         0   \n",
      "69         0         0         0         1         0         0         0   \n",
      "\n",
      "    d 5101-0  d 5101-1  d 5101-2  ...  d 57022-4  d 57022-8  d 57022-9  \\\n",
      "0          0         0         0  ...          0          0          0   \n",
      "1          0         0         0  ...          0          0          0   \n",
      "2          0         0         0  ...          0          0          0   \n",
      "3          0         0         0  ...          0          0          0   \n",
      "4          0         0         0  ...          0          0          0   \n",
      "..       ...       ...       ...  ...        ...        ...        ...   \n",
      "65         0         0         1  ...          0          0          0   \n",
      "66         0         0         0  ...          0          0          0   \n",
      "67         0         0         0  ...          0          0          0   \n",
      "68         0         0         0  ...          0          0          0   \n",
      "69         0         0         0  ...          0          0          0   \n",
      "\n",
      "    d 571-0  d 571-1  d 571-2  d 571-3  d 571-4  d 571-8  d 571-9  \n",
      "0         0        0        0        0        1        0        0  \n",
      "1         0        0        0        1        0        0        0  \n",
      "2         0        0        0        1        0        0        0  \n",
      "3         0        0        1        0        0        0        0  \n",
      "4         0        0        1        0        0        0        0  \n",
      "..      ...      ...      ...      ...      ...      ...      ...  \n",
      "65        0        1        0        0        0        0        0  \n",
      "66        1        0        0        0        0        0        0  \n",
      "67        0        0        1        0        0        0        0  \n",
      "68        0        0        0        1        0        0        0  \n",
      "69        0        0        1        0        0        0        0  \n",
      "\n",
      "[70 rows x 203 columns]\n"
     ]
    }
   ],
   "source": [
    "from matplotlib import pyplot as plt\n",
    "import numpy as np\n",
    "\n",
    "df = data.drop(['Gender','Age','Classes'],axis=1)\n",
    "print(df)"
   ]
  },
  {
   "cell_type": "code",
   "execution_count": 4,
   "id": "5a09aed0",
   "metadata": {},
   "outputs": [
    {
     "name": "stdout",
     "output_type": "stream",
     "text": [
      "[[0 0 0 ... 1 0 0]\n",
      " [0 0 0 ... 0 0 0]\n",
      " [0 0 0 ... 0 0 0]\n",
      " ...\n",
      " [0 0 0 ... 0 0 0]\n",
      " [0 0 0 ... 0 0 0]\n",
      " [0 0 0 ... 0 0 0]]\n",
      "70\n"
     ]
    }
   ],
   "source": [
    "x = np.array(df)\n",
    "print(x)\n",
    "print(len(x))"
   ]
  },
  {
   "cell_type": "code",
   "execution_count": 5,
   "id": "a8054fbe",
   "metadata": {},
   "outputs": [
    {
     "name": "stderr",
     "output_type": "stream",
     "text": [
      "C:\\Users\\bellal\\Anaconda3\\lib\\site-packages\\sklearn\\cluster\\_kmeans.py:881: UserWarning: KMeans is known to have a memory leak on Windows with MKL, when there are less chunks than available threads. You can avoid it by setting the environment variable OMP_NUM_THREADS=1.\n",
      "  warnings.warn(\n"
     ]
    },
    {
     "data": {
      "text/plain": [
       "Text(0.5, 0, 'Number of cluster')"
      ]
     },
     "execution_count": 5,
     "metadata": {},
     "output_type": "execute_result"
    },
    {
     "data": {
      "image/png": "[encoded data removed]",
      "text/plain": [
       "<Figure size 432x288 with 1 Axes>"
      ]
     },
     "metadata": {
      "needs_background": "light"
     },
     "output_type": "display_data"
    }
   ],
   "source": [
    "from sklearn.cluster import KMeans\n",
    "\n",
    "totSqrdDist=[]\n",
    "kRange=range(1,15)\n",
    "for k in kRange:\n",
    "    kmns = KMeans(n_clusters=k)\n",
    "    kmns = kmns.fit(x)\n",
    "    totSqrdDist.append(kmns.inertia_)\n",
    "\n",
    "plt.plot(kRange,totSqrdDist,'-xk')\n",
    "plt.ylabel('Sum of squared distance')\n",
    "plt.xlabel('Number of cluster')"
   ]
  },
  {
   "cell_type": "code",
   "execution_count": 6,
   "id": "b852a055",
   "metadata": {},
   "outputs": [],
   "source": [
    "# 2. For the dataset, perform PCA.\n",
    "#a. plot the captured variance with respect to increasing latent dimensionality. "
   ]
  },
  {
   "cell_type": "code",
   "execution_count": 7,
   "id": "8cdb84b8",
   "metadata": {},
   "outputs": [
    {
     "name": "stdout",
     "output_type": "stream",
     "text": [
      "[18.88 32.91 42.2  47.75 52.37 56.72 60.42 63.55 66.4  69.16 71.7  73.99\n",
      " 76.19 78.19 79.91 81.59 83.08 84.43 85.73 86.94 88.12 89.09 89.95 90.73\n",
      " 91.49 92.2  92.86 93.47 94.06 94.58 95.08 95.55 95.99 96.4  96.76 97.11\n",
      " 97.43 97.73 97.97 98.19 98.39 98.58 98.77 98.94 99.1  99.22 99.33 99.42\n",
      " 99.51 99.59 99.66 99.71 99.76 99.8  99.84 99.87 99.89 99.91 99.93 99.95\n",
      " 99.96 99.97 99.98 99.98 99.98 99.98 99.98 99.98 99.98 99.98]\n"
     ]
    },
    {
     "data": {
      "text/plain": [
       "Text(0, 0.5, 'Variance captured')"
      ]
     },
     "execution_count": 7,
     "metadata": {},
     "output_type": "execute_result"
    },
    {
     "data": {
      "image/png": "[encoded data removed]",
      "text/plain": [
       "<Figure size 432x288 with 1 Axes>"
      ]
     },
     "metadata": {
      "needs_background": "light"
     },
     "output_type": "display_data"
    }
   ],
   "source": [
    "from sklearn.decomposition import PCA\n",
    "from sklearn.preprocessing import scale\n",
    "\n",
    "Xnorm = scale(df)\n",
    "\n",
    "pca = PCA(n_components=70)\n",
    "pca.fit(Xnorm)\n",
    "\n",
    "var = pca.explained_variance_ratio_\n",
    "\n",
    "var1 = np.cumsum(np.round(pca.explained_variance_ratio_,decimals = 4)*100)\n",
    "print(var1)\n",
    "plt.plot(var1)\n",
    "plt.xlabel(\"Principal components\")\n",
    "plt.ylabel(\"Variance captured\")"
   ]
  },
  {
   "cell_type": "code",
   "execution_count": 8,
   "id": "23d8d2cf",
   "metadata": {},
   "outputs": [
    {
     "name": "stdout",
     "output_type": "stream",
     "text": [
      "The minimum dimension is: 22\n"
     ]
    }
   ],
   "source": [
    "#What is the minimum dimension that captures:\n",
    "#i. at least 89% variance? \n",
    "#Answer:22\n",
    "for i in range(len(var1)):\n",
    "    if var1[i] >= 89:\n",
    "        print(\"The minimum dimension is:\",i+1)\n",
    "        break"
   ]
  },
  {
   "cell_type": "code",
   "execution_count": 9,
   "id": "7fd8c421",
   "metadata": {},
   "outputs": [
    {
     "name": "stdout",
     "output_type": "stream",
     "text": [
      "The minimum dimension is: 45\n"
     ]
    }
   ],
   "source": [
    "#ii. at least 99% variance? \n",
    "#Answer:45\n",
    "for i in range(len(var1)):\n",
    "    if var1[i] >= 99:\n",
    "        print(\"The minimum dimension is:\",i+1)\n",
    "        break"
   ]
  },
  {
   "cell_type": "code",
   "execution_count": 10,
   "id": "3612238d",
   "metadata": {},
   "outputs": [],
   "source": [
    "#3. Determine the purity of clusters formed by the number of principal components which captured 89% and 99% variances respectively. Plot a line graph of the purity scores against the captured variances. Discuss your findings. (7.5 marks)"
   ]
  },
  {
   "cell_type": "code",
   "execution_count": 11,
   "id": "13fe12e3",
   "metadata": {},
   "outputs": [
    {
     "name": "stdout",
     "output_type": "stream",
     "text": [
      "[6, 6, 6, 6, 6, 2, 6, 2, 4, 7, 4, 7, 4, 7, 4, 6, 7, 6, 2, 4, 7, 7, 2, 6, 6, 6, 7, 6, 1, 6, 7, 7, 6, 6, 6, 6, 7, 4, 6, 5, 5, 2, 7, 7, 7, 4, 1, 2, 6, 7, 7, 4, 6, 6, 6, 2, 5, 6, 6, 6, 6, 4, 4, 7, 4, 4, 3, 6, 6, 6]\n"
     ]
    }
   ],
   "source": [
    "data_class = data.iloc[:,-1]\n",
    "\n",
    "data_class_array = np.array(data_class)\n",
    "\n",
    "actual_class = []\n",
    "\n",
    "for i in range(len(data_class_array)):\n",
    "    class_num = data_class_array[i][-1]\n",
    "    actual_class.append(int(class_num))\n",
    "\n",
    "print(actual_class)\n",
    "actual_class = np.array(actual_class)"
   ]
  },
  {
   "cell_type": "code",
   "execution_count": 12,
   "id": "9ff1a304",
   "metadata": {},
   "outputs": [],
   "source": [
    "def purity_score(p_labels,a_class):\n",
    "    results = {}\n",
    "    for i in range(len(p_labels)):\n",
    "        for j in range(len(np.unique(a_class))):\n",
    "            predict = p_labels[i]\n",
    "            actual = np.array(a_class)[i]\n",
    "            if predict not in results:\n",
    "                results[predict] = {}\n",
    "            results[predict][actual] = results[predict].get(actual,0)+1              \n",
    "    total_k = 0\n",
    "    major_k = 0\n",
    "    for each in results:\n",
    "        max_k = 0\n",
    "        for k in results[each]:\n",
    "            total_k += results[each][k]\n",
    "            if results[each][k] > max_k:\n",
    "                max_k = results[each][k]\n",
    "        major_k += max_k\n",
    "    purity_score = round(major_k/total_k,4)*100\n",
    "    return purity_score"
   ]
  },
  {
   "cell_type": "code",
   "execution_count": 13,
   "id": "fbb2f0d7",
   "metadata": {},
   "outputs": [
    {
     "name": "stdout",
     "output_type": "stream",
     "text": [
      "The purity of clusters that captured 89% variances is: 84.29\n"
     ]
    }
   ],
   "source": [
    "#When 89% variances are captured:\n",
    "\n",
    "pca = PCA(n_components=22)\n",
    "newData = pca.fit_transform(Xnorm)\n",
    "kmeans = KMeans(n_clusters=7,random_state=0).fit(newData)\n",
    "Ylabels = kmeans.labels_\n",
    "purity1 = round(purity_score(Ylabels,actual_class),2)\n",
    "print(\"The purity of clusters that captured 89% variances is:\",purity1)\n"
   ]
  },
  {
   "cell_type": "code",
   "execution_count": 14,
   "id": "c75f4ef2",
   "metadata": {},
   "outputs": [
    {
     "name": "stdout",
     "output_type": "stream",
     "text": [
      "The purity of clusters that captured 99% variances is: 82.86\n"
     ]
    }
   ],
   "source": [
    "#When 99% variances are captured:\n",
    "\n",
    "pca = PCA(n_components=45)\n",
    "newData = pca.fit_transform(Xnorm)\n",
    "kmeans = KMeans(n_clusters=7,random_state=0).fit(newData)\n",
    "Ylabels = kmeans.labels_\n",
    "purity2 = round(purity_score(Ylabels,actual_class),2)\n",
    "print(\"The purity of clusters that captured 99% variances is:\",purity2)"
   ]
  },
  {
   "cell_type": "code",
   "execution_count": 15,
   "id": "329e9653",
   "metadata": {},
   "outputs": [
    {
     "data": {
      "image/png": "[encoded data removed]",
      "text/plain": [
       "<Figure size 432x288 with 1 Axes>"
      ]
     },
     "metadata": {
      "needs_background": "light"
     },
     "output_type": "display_data"
    }
   ],
   "source": [
    "purity = [purity1,purity2]\n",
    "captured_var = ['89%','99%']\n",
    "\n",
    "plt.plot(captured_var,purity)\n",
    "plt.xlabel('captured variances in percentage')\n",
    "plt.ylabel('purity score')\n",
    "plt.title('purity scores against the captured variances')\n",
    "plt.show()"
   ]
  },
  {
   "cell_type": "code",
   "execution_count": 16,
   "id": "fe031626",
   "metadata": {},
   "outputs": [],
   "source": [
    "#4. Let's assume you have two datasets one is linear, and another is curved structural data.\n",
    "#a. Can we apply PCA on these datasets? Justify your answer. (2.5 marks)\n",
    "\n",
    "#Please see answers in the .pdf file."
   ]
  },
  {
   "cell_type": "code",
   "execution_count": 17,
   "id": "4a89daf4",
   "metadata": {},
   "outputs": [],
   "source": [
    "#5. Download the attached clustering.csv file. Read the file and separate the class and feature matrix. (2 marks)"
   ]
  },
  {
   "cell_type": "code",
   "execution_count": 18,
   "id": "211f84c6",
   "metadata": {},
   "outputs": [
    {
     "name": "stdout",
     "output_type": "stream",
     "text": [
      "     Age  Sex  chest pain type  Trestbps  chol  fbs  restecg  thalach  exang  \\\n",
      "0     63    1                1       145   233    1        2      150      0   \n",
      "1     67    1                4       160   286    0        2      108      1   \n",
      "2     67    1                4       120   229    0        2      129      1   \n",
      "3     37    1                3       130   250    0        0      187      0   \n",
      "4     41    0                2       130   204    0        2      172      0   \n",
      "..   ...  ...              ...       ...   ...  ...      ...      ...    ...   \n",
      "298   45    1                1       110   264    0        0      132      0   \n",
      "299   68    1                4       144   193    1        0      141      0   \n",
      "300   57    1                4       130   131    0        0      115      1   \n",
      "301   57    0                2       130   236    0        2      174      0   \n",
      "302   38    1                3       138   175    0        0      173      0   \n",
      "\n",
      "     oldpeak  slope ca thal  num  \n",
      "0        2.3      3  0    6    0  \n",
      "1        1.5      2  3    3    2  \n",
      "2        2.6      2  2    7    1  \n",
      "3        3.5      3  0    3    0  \n",
      "4        1.4      1  0    3    0  \n",
      "..       ...    ... ..  ...  ...  \n",
      "298      1.2      2  0    7    1  \n",
      "299      3.4      2  2    7    2  \n",
      "300      1.2      2  1    7    3  \n",
      "301      0.0      2  1    3    1  \n",
      "302      0.0      1  ?    3    0  \n",
      "\n",
      "[303 rows x 14 columns]\n"
     ]
    }
   ],
   "source": [
    "import pandas as pd\n",
    "data= pd.read_csv(\"heartdisease.csv\")\n",
    "print(data)"
   ]
  },
  {
   "cell_type": "code",
   "execution_count": 19,
   "id": "114275a8",
   "metadata": {},
   "outputs": [
    {
     "name": "stdout",
     "output_type": "stream",
     "text": [
      "     Age  Sex  chest pain type  Trestbps  chol  fbs  restecg  thalach  exang  \\\n",
      "0     63    1                1       145   233    1        2      150      0   \n",
      "1     67    1                4       160   286    0        2      108      1   \n",
      "2     67    1                4       120   229    0        2      129      1   \n",
      "3     37    1                3       130   250    0        0      187      0   \n",
      "4     41    0                2       130   204    0        2      172      0   \n",
      "..   ...  ...              ...       ...   ...  ...      ...      ...    ...   \n",
      "292   57    0                4       140   241    0        0      123      1   \n",
      "293   45    1                1       110   264    0        0      132      0   \n",
      "294   68    1                4       144   193    1        0      141      0   \n",
      "295   57    1                4       130   131    0        0      115      1   \n",
      "296   57    0                2       130   236    0        2      174      0   \n",
      "\n",
      "     oldpeak  slope ca thal  num  \n",
      "0        2.3      3  0    6    0  \n",
      "1        1.5      2  3    3    2  \n",
      "2        2.6      2  2    7    1  \n",
      "3        3.5      3  0    3    0  \n",
      "4        1.4      1  0    3    0  \n",
      "..       ...    ... ..  ...  ...  \n",
      "292      0.2      2  0    7    1  \n",
      "293      1.2      2  0    7    1  \n",
      "294      3.4      2  2    7    2  \n",
      "295      1.2      2  1    7    3  \n",
      "296      0.0      2  1    3    1  \n",
      "\n",
      "[297 rows x 14 columns]\n"
     ]
    }
   ],
   "source": [
    "import numpy as np\n",
    "\n",
    "for index,row in data.iterrows():\n",
    "    for each in row:\n",
    "        if each ==\"?\":\n",
    "            data.drop(index=[index],inplace=True)\n",
    "            break\n",
    "data.index = range(len(data))\n",
    "print(data)"
   ]
  },
  {
   "cell_type": "code",
   "execution_count": 20,
   "id": "0508242f",
   "metadata": {},
   "outputs": [
    {
     "name": "stdout",
     "output_type": "stream",
     "text": [
      "     Age  Sex  chest pain type  Trestbps  chol  fbs  restecg  thalach  exang  \\\n",
      "0     63    1                1       145   233    1        2      150      0   \n",
      "1     67    1                4       160   286    0        2      108      1   \n",
      "2     67    1                4       120   229    0        2      129      1   \n",
      "3     37    1                3       130   250    0        0      187      0   \n",
      "4     41    0                2       130   204    0        2      172      0   \n",
      "..   ...  ...              ...       ...   ...  ...      ...      ...    ...   \n",
      "292   57    0                4       140   241    0        0      123      1   \n",
      "293   45    1                1       110   264    0        0      132      0   \n",
      "294   68    1                4       144   193    1        0      141      0   \n",
      "295   57    1                4       130   131    0        0      115      1   \n",
      "296   57    0                2       130   236    0        2      174      0   \n",
      "\n",
      "     oldpeak  slope ca thal  \n",
      "0        2.3      3  0    6  \n",
      "1        1.5      2  3    3  \n",
      "2        2.6      2  2    7  \n",
      "3        3.5      3  0    3  \n",
      "4        1.4      1  0    3  \n",
      "..       ...    ... ..  ...  \n",
      "292      0.2      2  0    7  \n",
      "293      1.2      2  0    7  \n",
      "294      3.4      2  2    7  \n",
      "295      1.2      2  1    7  \n",
      "296      0.0      2  1    3  \n",
      "\n",
      "[297 rows x 13 columns]\n",
      "0      0\n",
      "1      2\n",
      "2      1\n",
      "3      0\n",
      "4      0\n",
      "      ..\n",
      "292    1\n",
      "293    1\n",
      "294    2\n",
      "295    3\n",
      "296    1\n",
      "Name: num, Length: 297, dtype: int64\n"
     ]
    }
   ],
   "source": [
    "# Separate the class and feature matrix\n",
    "att_data = data.iloc[:,:-1]\n",
    "print(att_data)\n",
    "\n",
    "class_data = data.iloc[:,-1]\n",
    "print(class_data)"
   ]
  },
  {
   "cell_type": "code",
   "execution_count": 21,
   "id": "a2da6cb0",
   "metadata": {},
   "outputs": [
    {
     "name": "stdout",
     "output_type": "stream",
     "text": [
      "[0 1 1 0 0 0 1 0 1 1 0 0 1 0 0 0 1 0 0 0 0 0 1 1 1 0 0 0 0 1 0 1 1 0 0 0 1\n",
      " 1 1 0 1 0 0 0 1 1 0 1 0 0 0 0 1 0 1 1 1 1 0 0 1 0 1 0 1 1 1 0 1 1 0 1 1 1\n",
      " 1 0 1 0 0 1 0 0 0 1 0 0 0 0 0 0 1 0 0 0 1 1 1 0 0 0 0 0 0 1 0 1 1 1 1 1 1\n",
      " 0 1 1 0 0 0 1 1 1 1 0 1 1 0 1 1 0 0 0 0 0 0 0 0 1 1 1 0 0 1 0 1 0 1 1 0 0\n",
      " 0 0 0 0 1 1 1 1 1 1 0 0 1 0 0 0 0 0 1 0 1 0 1 0 1 1 0 1 0 0 1 1 0 0 1 0 0\n",
      " 1 1 1 0 1 1 0 1 0 0 0 1 0 0 0 0 0 1 1 1 0 1 0 1 0 1 1 0 0 0 0 0 0 0 0 1 1\n",
      " 0 0 0 1 1 0 1 1 0 0 1 1 1 0 0 0 0 0 1 0 1 1 1 1 0 0 1 0 0 0 0 0 0 0 1 0 1\n",
      " 0 0 1 1 1 1 0 1 0 1 0 1 0 0 0 1 0 1 0 1 0 1 1 1 0 0 1 0 1 1 1 0 1 1 1 1 1\n",
      " 1]\n"
     ]
    }
   ],
   "source": [
    "# Modify the num attribute, take the value 0 for no presence of CAD and bigger than 1 for the presence of CAD.\n",
    "\n",
    "new_class_data = np.arange(len(class_data))\n",
    "\n",
    "for index, value in class_data.iteritems():\n",
    "    if value != 0:\n",
    "        new_class_data[index] = 1\n",
    "    else:\n",
    "        new_class_data[index] = 0\n",
    "\n",
    "print(new_class_data)"
   ]
  },
  {
   "cell_type": "code",
   "execution_count": 22,
   "id": "86c0d1e1",
   "metadata": {},
   "outputs": [],
   "source": [
    "#6. Determine the number of clusters from the dataset. Is this same as the actual number of classes in the dataset? (1 marks)"
   ]
  },
  {
   "cell_type": "code",
   "execution_count": 23,
   "id": "b5db5d85",
   "metadata": {},
   "outputs": [
    {
     "name": "stderr",
     "output_type": "stream",
     "text": [
      "C:\\Users\\bellal\\Anaconda3\\lib\\site-packages\\sklearn\\cluster\\_kmeans.py:881: UserWarning: KMeans is known to have a memory leak on Windows with MKL, when there are less chunks than available threads. You can avoid it by setting the environment variable OMP_NUM_THREADS=2.\n",
      "  warnings.warn(\n"
     ]
    },
    {
     "data": {
      "text/plain": [
       "Text(0.5, 0, 'Number of cluster')"
      ]
     },
     "execution_count": 23,
     "metadata": {},
     "output_type": "execute_result"
    },
    {
     "data": {
      "image/png": "[encoded data removed]",
      "text/plain": [
       "<Figure size 432x288 with 1 Axes>"
      ]
     },
     "metadata": {
      "needs_background": "light"
     },
     "output_type": "display_data"
    }
   ],
   "source": [
    "from matplotlib import pyplot as plt\n",
    "from sklearn.cluster import KMeans\n",
    "\n",
    "X = np.array(att_data)\n",
    "\n",
    "totSqrdDist=[]\n",
    "kRange=range(1,15)\n",
    "for k in kRange:\n",
    "    kmns = KMeans(n_clusters=k)\n",
    "    kmns = kmns.fit(X)\n",
    "    totSqrdDist.append(kmns.inertia_)\n",
    "\n",
    "plt.plot(kRange,totSqrdDist,'-xk')\n",
    "plt.ylabel('Sum of squared distance')\n",
    "plt.xlabel('Number of cluster')"
   ]
  },
  {
   "cell_type": "code",
   "execution_count": 24,
   "id": "40aca5b3",
   "metadata": {},
   "outputs": [],
   "source": [
    "# According to the graph above, the number of clusters should be around 5. It is the same with the actual number of classes in the dataset."
   ]
  },
  {
   "cell_type": "code",
   "execution_count": 25,
   "id": "54463830",
   "metadata": {},
   "outputs": [],
   "source": [
    "# 7. Perform K-Means clustering on the complete dataset and report purity score. (2 marks)"
   ]
  },
  {
   "cell_type": "code",
   "execution_count": 26,
   "id": "8d563f2b",
   "metadata": {},
   "outputs": [
    {
     "name": "stdout",
     "output_type": "stream",
     "text": [
      "[[ 5.14787234e+01  7.02127660e-01  3.00000000e+00  1.28500000e+02\n",
      "   2.40861702e+02  1.27659574e-01  9.57446809e-01  1.64127660e+02\n",
      "   2.02127660e-01  7.60638298e-01  1.51063830e+00  5.63829787e-01\n",
      "   4.32978723e+00]\n",
      " [ 5.61147541e+01  5.73770492e-01  3.18032787e+00  1.35688525e+02\n",
      "   3.08459016e+02  1.31147541e-01  1.08196721e+00  1.53180328e+02\n",
      "   3.60655738e-01  9.93442623e-01  1.47540984e+00  7.86885246e-01\n",
      "   4.60655738e+00]\n",
      " [ 5.98679245e+01  7.35849057e-01  3.35849057e+00  1.38433962e+02\n",
      "   2.58396226e+02  1.69811321e-01  1.16981132e+00  1.22018868e+02\n",
      "   5.47169811e-01  1.53207547e+00  1.90566038e+00  9.24528302e-01\n",
      "   5.49056604e+00]\n",
      " [ 5.29880952e+01  7.26190476e-01  3.16666667e+00  1.27869048e+02\n",
      "   1.91904762e+02  1.54761905e-01  8.09523810e-01  1.47785714e+02\n",
      "   3.09523810e-01  1.07976190e+00  1.59523810e+00  5.35714286e-01\n",
      "   4.75000000e+00]\n",
      " [ 6.26000000e+01 -1.11022302e-16  3.60000000e+00  1.35800000e+02\n",
      "   4.38200000e+02  2.00000000e-01  2.00000000e+00  1.55600000e+02\n",
      "   2.00000000e-01  1.90000000e+00  1.80000000e+00  1.20000000e+00\n",
      "   5.40000000e+00]]\n",
      "[0 2 2 0 3 0 0 1 0 3 3 1 2 0 3 3 0 0 2 0 3 1 1 0 3 0 1 2 0 3 0 0 1 0 0 0 3\n",
      " 2 1 2 2 3 1 3 1 0 3 2 4 3 3 3 1 0 2 2 0 3 0 3 1 3 3 1 3 1 3 0 1 0 2 0 2 0\n",
      " 3 1 2 1 0 2 3 2 1 2 1 0 0 0 0 1 3 0 3 0 0 0 0 3 0 0 3 1 2 3 1 3 0 2 3 1 0\n",
      " 3 1 2 3 3 3 1 2 0 4 0 2 1 0 2 2 0 3 0 0 0 0 3 0 3 2 3 0 0 1 3 1 0 0 2 0 1\n",
      " 1 1 2 4 1 2 1 1 1 1 1 3 1 3 2 0 3 1 1 3 2 2 2 4 3 2 0 3 1 0 0 4 0 2 1 3 0\n",
      " 2 1 2 3 1 2 3 1 2 0 0 2 0 1 3 1 3 1 2 3 0 0 0 0 0 0 0 3 3 0 1 0 0 0 3 2 0\n",
      " 0 3 1 3 3 3 1 3 2 3 2 2 0 0 1 0 1 0 0 3 2 0 2 3 3 3 2 2 1 1 3 0 3 2 2 0 1\n",
      " 0 0 3 1 3 0 3 3 2 1 3 3 0 1 0 0 3 1 0 3 3 3 1 0 0 0 3 1 3 3 3 3 3 2 2 3 3\n",
      " 0]\n"
     ]
    }
   ],
   "source": [
    "kmeans = KMeans(n_clusters=5)\n",
    "kmeans.fit(X)\n",
    "\n",
    "centroids = kmeans.cluster_centers_\n",
    "labels = kmeans.labels_\n",
    "\n",
    "print(centroids)\n",
    "print(labels)"
   ]
  },
  {
   "cell_type": "code",
   "execution_count": 27,
   "id": "e77dac8e",
   "metadata": {},
   "outputs": [
    {
     "name": "stdout",
     "output_type": "stream",
     "text": [
      "The purity is: 53.87 %\n"
     ]
    }
   ],
   "source": [
    "print(\"The purity is:\",purity_score(labels,class_data),\"%\")"
   ]
  },
  {
   "cell_type": "code",
   "execution_count": 28,
   "id": "5c9de10c",
   "metadata": {},
   "outputs": [],
   "source": [
    "# Q8. There are several distance metrics for K-Means such as euclidean, squared euclidean, Manhattan, Chebyshev, Minkowski"
   ]
  },
  {
   "cell_type": "code",
   "execution_count": 29,
   "id": "bfc3eae3",
   "metadata": {},
   "outputs": [],
   "source": [
    "# a.Your job is to compare the purity score of k-means clustering for different distance metrics\n",
    "\n",
    "from pyclustering.cluster.center_initializer import kmeans_plusplus_initializer as kpi\n",
    "from pyclustering.utils.metric import distance_metric, type_metric\n",
    "from pyclustering.cluster.kmeans import kmeans,kmeans_visualizer\n",
    "from pyclustering.samples.definitions import FCPS_SAMPLES\n",
    "from pyclustering.utils import read_sample\n",
    "\n",
    "att_data.to_csv('sample.txt',sep='\\t',index=False,header=False)\n",
    "sample = read_sample(\"sample.txt\")\n",
    "\n",
    "initial_centers = kpi(sample, 2).initialize()"
   ]
  },
  {
   "cell_type": "code",
   "execution_count": 30,
   "id": "3731a218",
   "metadata": {},
   "outputs": [],
   "source": [
    "# Using different metric to calculate the distance and perform kmeans\n",
    "\n",
    "methods = [type_metric.EUCLIDEAN,type_metric.EUCLIDEAN_SQUARE,type_metric.MANHATTAN,type_metric.CHEBYSHEV]\n",
    "pre_data_set = {}\n",
    "\n",
    "for method in methods:\n",
    "    my_metric = distance_metric(method)\n",
    "    kmeans_instance = kmeans(sample, initial_centers, metric=my_metric)\n",
    "    kmeans_instance.process()\n",
    "    clusters = kmeans_instance.get_clusters()\n",
    "    final_centers = kmeans_instance.get_centers()\n",
    "    pre_data = np.zeros(len(new_class_data))\n",
    "    for each in clusters[0]:\n",
    "        pre_data[each]=1\n",
    "    pre_data_set[method] = pre_data\n",
    "\n",
    "my_metric = distance_metric(type_metric.MINKOWSKI,degree = 4)\n",
    "kmeans_instance = kmeans(sample, initial_centers, metric=my_metric)\n",
    "kmeans_instance.process()\n",
    "clusters = kmeans_instance.get_clusters()\n",
    "final_centers = kmeans_instance.get_centers()\n",
    "pre_data = np.zeros(len(new_class_data))\n",
    "for each in clusters[0]:\n",
    "    pre_data[each]=1\n",
    "pre_data_set[type_metric.MINKOWSKI] = pre_data\n"
   ]
  },
  {
   "cell_type": "code",
   "execution_count": 31,
   "id": "978ffa98",
   "metadata": {},
   "outputs": [],
   "source": [
    "# Create a function to calculate purity using different distance metrics.\n",
    "\n",
    "def calculate_purity_kmeans_by_method(method):\n",
    "    purity = purity_score(pre_data_set[method],new_class_data)\n",
    "    return purity"
   ]
  },
  {
   "cell_type": "code",
   "execution_count": 32,
   "id": "8a7809d2",
   "metadata": {},
   "outputs": [],
   "source": [
    "purity_Euclidean = round(calculate_purity_kmeans_by_method(type_metric.EUCLIDEAN),2)\n",
    "purity_Euclidean_Square = round(calculate_purity_kmeans_by_method(type_metric.EUCLIDEAN_SQUARE),2)\n",
    "purity_Manhattan = round(calculate_purity_kmeans_by_method(type_metric.MANHATTAN),2)\n",
    "purity_Chebyshev = round(calculate_purity_kmeans_by_method(type_metric.CHEBYSHEV),2)\n",
    "purity_Minkowski = round(calculate_purity_kmeans_by_method(type_metric.MINKOWSKI),2)"
   ]
  },
  {
   "cell_type": "code",
   "execution_count": 33,
   "id": "9d47843e",
   "metadata": {},
   "outputs": [
    {
     "name": "stdout",
     "output_type": "stream",
     "text": [
      "The purity of Euclidean is: 57.58 %\n",
      "The purity of Euclidean Square is: 57.58 %\n",
      "The purity of MANHATTAN is: 59.6 %\n",
      "The purity of CHEBYSHEV is: 58.92 %\n",
      "The purity of MINKOWSKI is: 56.57 %\n"
     ]
    }
   ],
   "source": [
    "print(\"The purity of Euclidean is:\",purity_Euclidean,\"%\")\n",
    "print(\"The purity of Euclidean Square is:\",purity_Euclidean_Square,\"%\")\n",
    "print(\"The purity of MANHATTAN is:\",purity_Manhattan,\"%\")\n",
    "print(\"The purity of CHEBYSHEV is:\",purity_Chebyshev,\"%\")\n",
    "print(\"The purity of MINKOWSKI is:\",purity_Minkowski,\"%\")"
   ]
  },
  {
   "cell_type": "code",
   "execution_count": 34,
   "id": "0ab98a25",
   "metadata": {},
   "outputs": [
    {
     "data": {
      "image/png": "[encoded data removed]",
      "text/plain": [
       "<Figure size 432x288 with 1 Axes>"
      ]
     },
     "metadata": {
      "needs_background": "light"
     },
     "output_type": "display_data"
    }
   ],
   "source": [
    "from bokeh.palettes import Spectral6\n",
    "\n",
    "x_purity = ['Euclidean','E_Square','Manhattan','Chebyshev','Minkowski']\n",
    "y_purity = [purity_Euclidean,purity_Euclidean_Square,purity_Manhattan,purity_Chebyshev,purity_Minkowski]\n",
    "\n",
    "plt.bar(x_purity,y_purity,color=Spectral6)\n",
    "plt.ylabel('Purity Score')\n",
    "for a,b in zip(x_purity,y_purity):\n",
    "    plt.text(a,b,b,ha='center',va='bottom')\n",
    "plt.title('Purity Score of K-Means clustering for different distance metrics')\n",
    "plt.show()"
   ]
  },
  {
   "cell_type": "code",
   "execution_count": 35,
   "id": "449ff1a3",
   "metadata": {},
   "outputs": [],
   "source": [
    "#Rand Index analysis\n",
    "from sklearn import metrics\n",
    "\n",
    "def calculate_rand_score_kmeans_by_method(method):\n",
    "    rand_score = metrics.rand_score(pre_data_set[method],new_class_data)\n",
    "    return rand_score\n"
   ]
  },
  {
   "cell_type": "code",
   "execution_count": 36,
   "id": "679bb227",
   "metadata": {},
   "outputs": [],
   "source": [
    "rand_score_Euclidean = round(calculate_rand_score_kmeans_by_method(type_metric.EUCLIDEAN),5)\n",
    "rand_score_E_Square = round(calculate_rand_score_kmeans_by_method(type_metric.EUCLIDEAN_SQUARE),5)\n",
    "rand_score_Manhattan = round(calculate_rand_score_kmeans_by_method(type_metric.MANHATTAN),5)\n",
    "rand_score_Chebyshev = round(calculate_rand_score_kmeans_by_method(type_metric.CHEBYSHEV),5)\n",
    "rand_score_Minkowski = round(calculate_rand_score_kmeans_by_method(type_metric.MINKOWSKI),5)"
   ]
  },
  {
   "cell_type": "code",
   "execution_count": 37,
   "id": "ccfecb9d",
   "metadata": {},
   "outputs": [
    {
     "data": {
      "image/png": "[encoded data removed]",
      "text/plain": [
       "<Figure size 432x288 with 1 Axes>"
      ]
     },
     "metadata": {
      "needs_background": "light"
     },
     "output_type": "display_data"
    }
   ],
   "source": [
    "x_rand_index = ('Euclidean','E_Square','Manhattan','Chebyshev','Minkowski')\n",
    "y_rand_index = [rand_score_Euclidean,rand_score_E_Square,rand_score_Manhattan,rand_score_Chebyshev,rand_score_Minkowski]\n",
    "plt.bar(x_rand_index,y_rand_index,color=Spectral6)\n",
    "\n",
    "for a,b in zip(x_rand_index,y_rand_index):\n",
    "    plt.text(a,b,b,ha='center',va='bottom')\n",
    "\n",
    "plt.ylabel('Rand Index')\n",
    "plt.title('Rand index of K-Means clustering for different distance metrics')\n",
    "plt.show()"
   ]
  },
  {
   "cell_type": "code",
   "execution_count": 38,
   "id": "5dba1f9c",
   "metadata": {},
   "outputs": [],
   "source": [
    "#Adjusted mutual info (AMI) analysis\n",
    "\n",
    "def calculate_AMI_score_kmeans_by_method(method):\n",
    "    adjusted_mutual_info_score = metrics.adjusted_mutual_info_score(pre_data_set[method],new_class_data)\n",
    "    return adjusted_mutual_info_score"
   ]
  },
  {
   "cell_type": "code",
   "execution_count": 39,
   "id": "86bf0776",
   "metadata": {},
   "outputs": [],
   "source": [
    "adjusted_mutual_info_score_Euclidean = round(calculate_AMI_score_kmeans_by_method(type_metric.EUCLIDEAN),5)\n",
    "adjusted_mutual_info_score_E_Square = round(calculate_AMI_score_kmeans_by_method(type_metric.EUCLIDEAN_SQUARE),5)\n",
    "adjusted_mutual_info_score_Manhattan = round(calculate_AMI_score_kmeans_by_method(type_metric.MANHATTAN),5)\n",
    "adjusted_mutual_info_score_Chebyshev = round(calculate_AMI_score_kmeans_by_method(type_metric.CHEBYSHEV),5)\n",
    "adjusted_mutual_info_score_Minkowski = round(calculate_AMI_score_kmeans_by_method(type_metric.MINKOWSKI),5)"
   ]
  },
  {
   "cell_type": "code",
   "execution_count": 40,
   "id": "0a3e5840",
   "metadata": {
    "scrolled": true
   },
   "outputs": [
    {
     "data": {
      "image/png": "[encoded data removed]",
      "text/plain": [
       "<Figure size 432x288 with 1 Axes>"
      ]
     },
     "metadata": {
      "needs_background": "light"
     },
     "output_type": "display_data"
    }
   ],
   "source": [
    "x_adjusted_mutual_info = ('Euclidean','E_Square','Manhattan','Chebyshev','Minkowski')\n",
    "y_adjusted_mutual_info = [adjusted_mutual_info_score_Euclidean,adjusted_mutual_info_score_E_Square,adjusted_mutual_info_score_Manhattan,adjusted_mutual_info_score_Chebyshev,adjusted_mutual_info_score_Minkowski]\n",
    "plt.bar(x_adjusted_mutual_info,y_adjusted_mutual_info,color=Spectral6)\n",
    "\n",
    "for a,b in zip(x_adjusted_mutual_info,y_adjusted_mutual_info):\n",
    "    plt.text(a,b,b,ha='center',va='bottom')\n",
    "\n",
    "plt.ylabel('Adjusted Mutual Information Score')\n",
    "plt.title('Adjusted mutual information score of K-Means clustering for different distance metrics')\n",
    "plt.show()"
   ]
  },
  {
   "cell_type": "code",
   "execution_count": 41,
   "id": "f8ff774c",
   "metadata": {},
   "outputs": [],
   "source": [
    "# Homogeneity analysis\n",
    "\n",
    "def calculate_homogeneity_score_kmeans_by_method(method):\n",
    "    homogeneity_score = metrics.homogeneity_score(pre_data_set[method],new_class_data)\n",
    "    return homogeneity_score"
   ]
  },
  {
   "cell_type": "code",
   "execution_count": 42,
   "id": "153b47b4",
   "metadata": {},
   "outputs": [],
   "source": [
    "homogeneity_score_Euclidean = round(calculate_homogeneity_score_kmeans_by_method(type_metric.EUCLIDEAN),5)\n",
    "homogeneity_score_E_Square = round(calculate_homogeneity_score_kmeans_by_method(type_metric.EUCLIDEAN_SQUARE),5)\n",
    "homogeneity_score_Manhattan = round(calculate_homogeneity_score_kmeans_by_method(type_metric.MANHATTAN),5)\n",
    "homogeneity_score_Chebyshev = round(calculate_homogeneity_score_kmeans_by_method(type_metric.CHEBYSHEV),5)\n",
    "homogeneity_score_Minkowski = round(calculate_homogeneity_score_kmeans_by_method(type_metric.MINKOWSKI),5)"
   ]
  },
  {
   "cell_type": "code",
   "execution_count": 43,
   "id": "e4555515",
   "metadata": {},
   "outputs": [
    {
     "data": {
      "image/png": "[encoded data removed]",
      "text/plain": [
       "<Figure size 432x288 with 1 Axes>"
      ]
     },
     "metadata": {
      "needs_background": "light"
     },
     "output_type": "display_data"
    }
   ],
   "source": [
    "x_homogeneity = ('Euclidean','E_Square','Manhattan','Chebyshev','Minkowski')\n",
    "y_homogeneity = [homogeneity_score_Euclidean,homogeneity_score_E_Square,homogeneity_score_Manhattan,homogeneity_score_Chebyshev,homogeneity_score_Minkowski]\n",
    "plt.bar(x_homogeneity,y_homogeneity,color=Spectral6)\n",
    "\n",
    "for a,b in zip(x_homogeneity,y_homogeneity):\n",
    "    plt.text(a,b,b,ha='center',va='bottom')\n",
    "\n",
    "plt.ylabel('Homogeneity Score')\n",
    "plt.title('Homogeneity score of K-Means clustering for different distance metrics')\n",
    "plt.show()"
   ]
  },
  {
   "cell_type": "code",
   "execution_count": 44,
   "id": "b8044efc",
   "metadata": {},
   "outputs": [],
   "source": [
    "# Completeness analysis\n",
    "\n",
    "def calculate_completeness_score_kmeans_by_method(method):\n",
    "    completeness_score = metrics.completeness_score(pre_data_set[method],new_class_data)\n",
    "    return completeness_score"
   ]
  },
  {
   "cell_type": "code",
   "execution_count": 45,
   "id": "9dd322f3",
   "metadata": {},
   "outputs": [],
   "source": [
    "completeness_score_Euclidean = round(calculate_completeness_score_kmeans_by_method(type_metric.EUCLIDEAN),5)\n",
    "completeness_score_E_Square = round(calculate_completeness_score_kmeans_by_method(type_metric.EUCLIDEAN_SQUARE),5)\n",
    "completeness_score_Manhattan = round(calculate_completeness_score_kmeans_by_method(type_metric.MANHATTAN),5)\n",
    "completeness_score_Chebyshev = round(calculate_completeness_score_kmeans_by_method(type_metric.CHEBYSHEV),5)\n",
    "completeness_score_Minkowski = round(calculate_completeness_score_kmeans_by_method(type_metric.MINKOWSKI),5)"
   ]
  },
  {
   "cell_type": "code",
   "execution_count": 46,
   "id": "2598abdd",
   "metadata": {},
   "outputs": [
    {
     "data": {
      "image/png": "[encoded data removed]",
      "text/plain": [
       "<Figure size 432x288 with 1 Axes>"
      ]
     },
     "metadata": {
      "needs_background": "light"
     },
     "output_type": "display_data"
    }
   ],
   "source": [
    "x_completeness = ('Euclidean','E_Square','Manhattan','Chebyshev','Minkowski')\n",
    "y_completeness = [completeness_score_Euclidean,completeness_score_E_Square,completeness_score_Manhattan,completeness_score_Chebyshev,completeness_score_Minkowski]\n",
    "plt.bar(x_completeness,y_completeness,color=Spectral6)\n",
    "\n",
    "for a,b in zip(x_completeness,y_completeness):\n",
    "    plt.text(a,b,b,ha='center',va='bottom')\n",
    "\n",
    "plt.ylabel('Completeness Score')\n",
    "plt.title('Completeness score of K-Means clustering for different distance metrics')\n",
    "plt.show()"
   ]
  },
  {
   "cell_type": "code",
   "execution_count": 47,
   "id": "caf0bf61",
   "metadata": {},
   "outputs": [],
   "source": [
    "# Calinski-Harabaz Index\n",
    "\n",
    "def calculate_Calinski_Harabaz_score_kmeans_by_method(method):\n",
    "    Calinski_Harabaz_score = metrics.calinski_harabasz_score(sample,pre_data_set[method])\n",
    "    return Calinski_Harabaz_score"
   ]
  },
  {
   "cell_type": "code",
   "execution_count": 48,
   "id": "0fb038ef",
   "metadata": {},
   "outputs": [],
   "source": [
    "calinski_harabaz_score_Euclidean = round(calculate_Calinski_Harabaz_score_kmeans_by_method(type_metric.EUCLIDEAN),5)\n",
    "calinski_harabaz_score_E_Square = round(calculate_Calinski_Harabaz_score_kmeans_by_method(type_metric.EUCLIDEAN_SQUARE),5)\n",
    "calinski_harabaz_score_Manhattan = round(calculate_Calinski_Harabaz_score_kmeans_by_method(type_metric.MANHATTAN),5)\n",
    "calinski_harabaz_score_Chebyshev = round(calculate_Calinski_Harabaz_score_kmeans_by_method(type_metric.CHEBYSHEV),5)\n",
    "calinski_harabaz_score_Minkowski = round(calculate_Calinski_Harabaz_score_kmeans_by_method(type_metric.MINKOWSKI),5)"
   ]
  },
  {
   "cell_type": "code",
   "execution_count": 49,
   "id": "d80bcc1e",
   "metadata": {},
   "outputs": [
    {
     "data": {
      "image/png": "[encoded data removed]",
      "text/plain": [
       "<Figure size 432x288 with 1 Axes>"
      ]
     },
     "metadata": {
      "needs_background": "light"
     },
     "output_type": "display_data"
    }
   ],
   "source": [
    "x_calinski_harabaz = ('Euclidean','E_Square','Manhattan','Chebyshev','Minkowski')\n",
    "y_calinski_harabaz = [calinski_harabaz_score_Euclidean,calinski_harabaz_score_E_Square,calinski_harabaz_score_Manhattan,calinski_harabaz_score_Chebyshev,calinski_harabaz_score_Minkowski]\n",
    "plt.bar(x_calinski_harabaz,y_calinski_harabaz,color=Spectral6)\n",
    "\n",
    "for a,b in zip(x_calinski_harabaz,y_calinski_harabaz):\n",
    "    plt.text(a,b,b,ha='center',va='bottom')\n",
    "\n",
    "plt.ylabel('Calinski_harabaz Score')\n",
    "plt.title('Calinski_harabaz of K-Means clustering for different distance metrics')\n",
    "plt.show()"
   ]
  },
  {
   "cell_type": "code",
   "execution_count": 50,
   "id": "8c3bb579",
   "metadata": {},
   "outputs": [],
   "source": [
    "# Accuracy Score\n",
    "\n",
    "def calculate_accuracy_score_kmeans_by_method(method):\n",
    "    accuracy_score = metrics.accuracy_score(new_class_data, pre_data_set[method])\n",
    "    return accuracy_score"
   ]
  },
  {
   "cell_type": "code",
   "execution_count": 51,
   "id": "26fedc94",
   "metadata": {},
   "outputs": [],
   "source": [
    "accuracy_score_Euclidean = round(calculate_accuracy_score_kmeans_by_method(type_metric.EUCLIDEAN),5)\n",
    "accuracy_score_E_Square = round(calculate_accuracy_score_kmeans_by_method(type_metric.EUCLIDEAN_SQUARE),5)\n",
    "accuracy_score_Manhattan = round(calculate_accuracy_score_kmeans_by_method(type_metric.MANHATTAN),5)\n",
    "accuracy_score_Chebyshev = round(calculate_accuracy_score_kmeans_by_method(type_metric.CHEBYSHEV),5)\n",
    "accuracy_score_Minkowski = round(calculate_accuracy_score_kmeans_by_method(type_metric.MINKOWSKI),5)"
   ]
  },
  {
   "cell_type": "code",
   "execution_count": 52,
   "id": "5269063b",
   "metadata": {},
   "outputs": [
    {
     "data": {
      "image/png": "[encoded data removed]",
      "text/plain": [
       "<Figure size 432x288 with 1 Axes>"
      ]
     },
     "metadata": {
      "needs_background": "light"
     },
     "output_type": "display_data"
    }
   ],
   "source": [
    "x_accuracy = ('Euclidean','E_Square','Manhattan','Chebyshev','Minkowski')\n",
    "y_accuracy = [accuracy_score_Euclidean,accuracy_score_E_Square,accuracy_score_Manhattan,accuracy_score_Chebyshev,accuracy_score_Minkowski]\n",
    "plt.bar(x_accuracy,y_accuracy,color=Spectral6)\n",
    "\n",
    "for a,b in zip(x_accuracy,y_accuracy):\n",
    "    plt.text(a,b,b,ha='center',va='bottom')\n",
    "\n",
    "plt.ylabel('accuracy Score')\n",
    "plt.title('accuracy of K-Means clustering for different distance metrics')\n",
    "plt.show()"
   ]
  },
  {
   "cell_type": "code",
   "execution_count": 53,
   "id": "e741d3a7",
   "metadata": {},
   "outputs": [],
   "source": [
    "# Silhouette Coefficient\n",
    "\n",
    "def calculate_silhouette_score_kmeans_by_method(method):\n",
    "    if method == type_metric.EUCLIDEAN:\n",
    "        metric = 'euclidean'\n",
    "    elif method == type_metric.EUCLIDEAN_SQUARE:\n",
    "        metric = 'sqeuclidean'\n",
    "    elif method == type_metric.MANHATTAN:\n",
    "        metric = 'manhattan'\n",
    "    elif method == type_metric.CHEBYSHEV:\n",
    "        metric = 'chebyshev'\n",
    "    elif method == type_metric.MINKOWSKI:\n",
    "        metric = 'minkowski'\n",
    "    silhouette_score = metrics.silhouette_score(sample,pre_data_set[method],metric=metric)\n",
    "    return silhouette_score"
   ]
  },
  {
   "cell_type": "code",
   "execution_count": 54,
   "id": "d477cbe2",
   "metadata": {},
   "outputs": [],
   "source": [
    "silhouette_score_Euclidean = round(calculate_silhouette_score_kmeans_by_method(type_metric.EUCLIDEAN),5)\n",
    "silhouette_score_E_Square = round(calculate_silhouette_score_kmeans_by_method(type_metric.EUCLIDEAN_SQUARE),5)\n",
    "silhouette_score_Manhattan = round(calculate_silhouette_score_kmeans_by_method(type_metric.MANHATTAN),5)\n",
    "silhouette_score_Chebyshev = round(calculate_silhouette_score_kmeans_by_method(type_metric.CHEBYSHEV),5)\n",
    "silhouette_score_Minkowski = round(calculate_silhouette_score_kmeans_by_method(type_metric.MINKOWSKI),5)"
   ]
  },
  {
   "cell_type": "code",
   "execution_count": 55,
   "id": "239f1596",
   "metadata": {},
   "outputs": [
    {
     "data": {
      "image/png": "[encoded data removed]",
      "text/plain": [
       "<Figure size 432x288 with 1 Axes>"
      ]
     },
     "metadata": {
      "needs_background": "light"
     },
     "output_type": "display_data"
    }
   ],
   "source": [
    "x_silhouette = ('Euclidean','E_Square','Manhattan','Chebyshev','Minkowski')\n",
    "y_silhouette = [silhouette_score_Euclidean,silhouette_score_E_Square,silhouette_score_Manhattan,silhouette_score_Chebyshev,silhouette_score_Minkowski]\n",
    "plt.bar(x_silhouette,y_silhouette,color=Spectral6)\n",
    "\n",
    "for a,b in zip(x_silhouette,y_silhouette):\n",
    "    plt.text(a,b,b,ha='center',va='bottom')\n",
    "\n",
    "plt.ylabel('Silhouette Coefficient Score')\n",
    "plt.title('Silhouette Coefficient of K-Means clustering for different distance metrics')\n",
    "plt.show()"
   ]
  },
  {
   "cell_type": "code",
   "execution_count": 56,
   "id": "afe57f0e",
   "metadata": {},
   "outputs": [],
   "source": [
    "#9.Use selection criteria (ANOVA, Chi-squared) to select best three features and use them for K-Means clustering. Based on the purity score which feature set are you going to recommend and why?"
   ]
  },
  {
   "cell_type": "code",
   "execution_count": 57,
   "id": "138a5d29",
   "metadata": {},
   "outputs": [
    {
     "name": "stdout",
     "output_type": "stream",
     "text": [
      "   Features       Score\n",
      "12     thal  113.219319\n",
      "11       ca   80.577866\n",
      "9   oldpeak   64.677208\n",
      "******************************\n",
      "   Features       Score\n",
      "7   thalach  187.053104\n",
      "11       ca   82.730613\n",
      "9   oldpeak   68.570533\n"
     ]
    }
   ],
   "source": [
    "from sklearn.feature_selection import SelectKBest\n",
    "from sklearn.feature_selection import chi2\n",
    "\n",
    "# Use ANOVA to select the best three features\n",
    "bestfeatures_ANOVA = SelectKBest(k=3)\n",
    "fit_ANOVA = bestfeatures_ANOVA.fit(att_data,new_class_data)\n",
    "dfscores_ANOVA = pd.DataFrame(fit_ANOVA.scores_)\n",
    "dfcolumns = pd.DataFrame(att_data.columns)\n",
    "\n",
    "featureScores_ANOVA = pd.concat([dfcolumns,dfscores_ANOVA],axis=1)\n",
    "featureScores_ANOVA.columns = ['Features','Score'] \n",
    "print(featureScores_ANOVA.nlargest(3,'Score'))\n",
    "\n",
    "print('*'*30)\n",
    "\n",
    "# Use chi2 to select the best three features\n",
    "bestfeatures_chi2 = SelectKBest(score_func=chi2,k=3)\n",
    "fit_chi2 = bestfeatures_chi2.fit(att_data,new_class_data)\n",
    "dfscores_chi2 = pd.DataFrame(fit_chi2.scores_)\n",
    "\n",
    "featureScores_chi2 = pd.concat([dfcolumns,dfscores_chi2],axis=1)\n",
    "featureScores_chi2.columns = ['Features','Score'] \n",
    "print(featureScores_chi2.nlargest(3,'Score'))"
   ]
  },
  {
   "cell_type": "code",
   "execution_count": 58,
   "id": "1204accf",
   "metadata": {},
   "outputs": [
    {
     "name": "stdout",
     "output_type": "stream",
     "text": [
      "The purity of the best three features got from ANOVA is: 76.43 %\n"
     ]
    }
   ],
   "source": [
    "# For the best three features got from ANOVA:\n",
    "att_data_ANOVA = pd.DataFrame(att_data, columns=['thal','ca','oldpeak'])\n",
    "att_data_ANOVA[['thal']] = att_data_ANOVA[['thal']].astype(float,errors='raise')\n",
    "att_data_ANOVA[['ca']] = att_data_ANOVA[['ca']].astype(float,errors='raise')\n",
    "\n",
    "kmeans_ANOVA = KMeans(n_clusters=2)\n",
    "kmeans_ANOVA.fit(att_data_ANOVA)\n",
    "\n",
    "centroids_ANOVA = kmeans_ANOVA.cluster_centers_\n",
    "labels_ANOVA = kmeans_ANOVA.labels_\n",
    "\n",
    "print(\"The purity of the best three features got from ANOVA is:\",round(purity_score(labels_ANOVA,new_class_data),2),\"%\")"
   ]
  },
  {
   "cell_type": "code",
   "execution_count": 59,
   "id": "16827274",
   "metadata": {},
   "outputs": [
    {
     "name": "stdout",
     "output_type": "stream",
     "text": [
      "The purity of the best three features got from chi2 is: 70.37 %\n"
     ]
    }
   ],
   "source": [
    "# For the best three features got from chi2:\n",
    "att_data_chi2 = pd.DataFrame(att_data, columns=['thalach','ca','oldpeak'])\n",
    "att_data_chi2[['ca']] = att_data_chi2[['ca']].astype(float,errors='raise')\n",
    "\n",
    "kmeans_chi2 = KMeans(n_clusters=2)\n",
    "kmeans_chi2.fit(att_data_chi2)\n",
    "\n",
    "centroids_chi2 = kmeans_chi2.cluster_centers_\n",
    "labels_chi2 = kmeans_chi2.labels_\n",
    "\n",
    "print(\"The purity of the best three features got from chi2 is:\",purity_score(labels_chi2,new_class_data),\"%\")"
   ]
  },
  {
   "cell_type": "code",
   "execution_count": 60,
   "id": "ede1aea3",
   "metadata": {},
   "outputs": [],
   "source": [
    "#10. Create a ML model for classifying subjects into two classes applying following constraints on above dataset. "
   ]
  },
  {
   "cell_type": "code",
   "execution_count": 61,
   "id": "0713f778",
   "metadata": {},
   "outputs": [],
   "source": [
    "#a. Report classification performance scores. Select scores that you think best for describing the model performance with appropriate justification. "
   ]
  },
  {
   "cell_type": "code",
   "execution_count": 62,
   "id": "2ef017bb",
   "metadata": {},
   "outputs": [
    {
     "name": "stdout",
     "output_type": "stream",
     "text": [
      " X_train.shape=(237, 13)\n",
      " y_train.shape=(237,)\n",
      " X_test.shape=(60, 13)\n",
      " y_test.shape=(60,)\n"
     ]
    }
   ],
   "source": [
    "from sklearn.model_selection import train_test_split\n",
    "import matplotlib.pyplot as plt\n",
    "\n",
    "X = np.squeeze(att_data)\n",
    "y = np.squeeze(new_class_data)\n",
    "X_train, X_test, y_train, y_test = train_test_split(X,y,test_size = 0.2, random_state=100)\n",
    "print(' X_train.shape={}\\n y_train.shape={}\\n X_test.shape={}\\n y_test.shape={}'.format(X_train.shape,y_train.shape,X_test.shape,y_test.shape))"
   ]
  },
  {
   "cell_type": "code",
   "execution_count": 63,
   "id": "21394ea6",
   "metadata": {},
   "outputs": [],
   "source": [
    "from sklearn.metrics import classification_report\n",
    "from sklearn.metrics import confusion_matrix\n",
    "from sklearn.metrics import roc_auc_score\n",
    "from sklearn.metrics import roc_curve\n",
    "\n",
    "def evaluation(y_test,y_pred):\n",
    "    e_accuracy_score = round(metrics.accuracy_score(y_test,y_pred),4)*100\n",
    "    e_classification_report = metrics.classification_report(y_test,y_pred)\n",
    "    e_confusion_matrix = metrics.confusion_matrix(y_test,y_pred)\n",
    "    return e_accuracy_score,e_classification_report,e_confusion_matrix"
   ]
  },
  {
   "cell_type": "code",
   "execution_count": 64,
   "id": "feb61f32",
   "metadata": {},
   "outputs": [
    {
     "name": "stdout",
     "output_type": "stream",
     "text": [
      "The accuracy score is: 91.67 %\n",
      "**************************************************\n",
      "The classification report is:\n",
      "               precision    recall  f1-score   support\n",
      "\n",
      "           0       0.97      0.89      0.93        36\n",
      "           1       0.85      0.96      0.90        24\n",
      "\n",
      "    accuracy                           0.92        60\n",
      "   macro avg       0.91      0.92      0.91        60\n",
      "weighted avg       0.92      0.92      0.92        60\n",
      "\n",
      "**************************************************\n",
      "The confusion matrix is:\n",
      " [[32  4]\n",
      " [ 1 23]]\n"
     ]
    },
    {
     "name": "stderr",
     "output_type": "stream",
     "text": [
      "C:\\Users\\bellal\\Anaconda3\\lib\\site-packages\\sklearn\\linear_model\\_logistic.py:763: ConvergenceWarning: lbfgs failed to converge (status=1):\n",
      "STOP: TOTAL NO. of ITERATIONS REACHED LIMIT.\n",
      "\n",
      "Increase the number of iterations (max_iter) or scale the data as shown in:\n",
      "    https://scikit-learn.org/stable/modules/preprocessing.html\n",
      "Please also refer to the documentation for alternative solver options:\n",
      "    https://scikit-learn.org/stable/modules/linear_model.html#logistic-regression\n",
      "  n_iter_i = _check_optimize_result(\n"
     ]
    }
   ],
   "source": [
    "# Logistic Regression\n",
    "\n",
    "from sklearn.metrics import classification_report\n",
    "from sklearn.linear_model import LogisticRegression\n",
    "\n",
    "logreg = LogisticRegression()\n",
    "logreg.fit(X_train,y_train)\n",
    "y_pred = logreg.predict(X_test)\n",
    "\n",
    "a,b,c = evaluation(y_test,y_pred)\n",
    "print('The accuracy score is:',a,'%')\n",
    "print('*'*50)\n",
    "print('The classification report is:\\n',b)\n",
    "print('*'*50)\n",
    "print('The confusion matrix is:\\n',c)"
   ]
  },
  {
   "cell_type": "code",
   "execution_count": 65,
   "id": "aaaffb7c",
   "metadata": {},
   "outputs": [
    {
     "data": {
      "image/png": "[encoded data removed]",
      "text/plain": [
       "<Figure size 432x288 with 1 Axes>"
      ]
     },
     "metadata": {
      "needs_background": "light"
     },
     "output_type": "display_data"
    }
   ],
   "source": [
    "logit_roc_auc = roc_auc_score(y_test, logreg.predict(X_test))\n",
    "fpr, tpr, thresholds = roc_curve(y_test, logreg.predict_proba(X_test)[:,1])\n",
    "plt.figure()\n",
    "plt.plot(fpr, tpr, label='Logistic Regression (area = %0.2f)' % logit_roc_auc)\n",
    "plt.plot([0, 1], [0, 1],'r--')\n",
    "plt.xlim([0.0, 1.0])\n",
    "plt.ylim([0.0, 1.05])\n",
    "plt.xlabel('False Positive Rate')\n",
    "plt.ylabel('True Positive Rate')\n",
    "plt.title('Receiver operating characteristic')\n",
    "plt.legend(loc=\"best\")\n",
    "plt.show()"
   ]
  },
  {
   "cell_type": "code",
   "execution_count": 66,
   "id": "ba8fb3fe",
   "metadata": {},
   "outputs": [],
   "source": [
    "#b. Have you taken any step to check generalisability of the model? What is that and how it ensures generalisability."
   ]
  },
  {
   "cell_type": "code",
   "execution_count": 67,
   "id": "f489eb00",
   "metadata": {
    "scrolled": false
   },
   "outputs": [
    {
     "name": "stderr",
     "output_type": "stream",
     "text": [
      "C:\\Users\\bellal\\Anaconda3\\lib\\site-packages\\sklearn\\linear_model\\_logistic.py:763: ConvergenceWarning: lbfgs failed to converge (status=1):\n",
      "STOP: TOTAL NO. of ITERATIONS REACHED LIMIT.\n",
      "\n",
      "Increase the number of iterations (max_iter) or scale the data as shown in:\n",
      "    https://scikit-learn.org/stable/modules/preprocessing.html\n",
      "Please also refer to the documentation for alternative solver options:\n",
      "    https://scikit-learn.org/stable/modules/linear_model.html#logistic-regression\n",
      "  n_iter_i = _check_optimize_result(\n",
      "C:\\Users\\bellal\\Anaconda3\\lib\\site-packages\\sklearn\\linear_model\\_logistic.py:763: ConvergenceWarning: lbfgs failed to converge (status=1):\n",
      "STOP: TOTAL NO. of ITERATIONS REACHED LIMIT.\n",
      "\n",
      "Increase the number of iterations (max_iter) or scale the data as shown in:\n",
      "    https://scikit-learn.org/stable/modules/preprocessing.html\n",
      "Please also refer to the documentation for alternative solver options:\n",
      "    https://scikit-learn.org/stable/modules/linear_model.html#logistic-regression\n",
      "  n_iter_i = _check_optimize_result(\n",
      "C:\\Users\\bellal\\Anaconda3\\lib\\site-packages\\sklearn\\linear_model\\_logistic.py:763: ConvergenceWarning: lbfgs failed to converge (status=1):\n",
      "STOP: TOTAL NO. of ITERATIONS REACHED LIMIT.\n",
      "\n",
      "Increase the number of iterations (max_iter) or scale the data as shown in:\n",
      "    https://scikit-learn.org/stable/modules/preprocessing.html\n",
      "Please also refer to the documentation for alternative solver options:\n",
      "    https://scikit-learn.org/stable/modules/linear_model.html#logistic-regression\n",
      "  n_iter_i = _check_optimize_result(\n",
      "C:\\Users\\bellal\\Anaconda3\\lib\\site-packages\\sklearn\\linear_model\\_logistic.py:763: ConvergenceWarning: lbfgs failed to converge (status=1):\n",
      "STOP: TOTAL NO. of ITERATIONS REACHED LIMIT.\n",
      "\n",
      "Increase the number of iterations (max_iter) or scale the data as shown in:\n",
      "    https://scikit-learn.org/stable/modules/preprocessing.html\n",
      "Please also refer to the documentation for alternative solver options:\n",
      "    https://scikit-learn.org/stable/modules/linear_model.html#logistic-regression\n",
      "  n_iter_i = _check_optimize_result(\n",
      "C:\\Users\\bellal\\Anaconda3\\lib\\site-packages\\sklearn\\linear_model\\_logistic.py:763: ConvergenceWarning: lbfgs failed to converge (status=1):\n",
      "STOP: TOTAL NO. of ITERATIONS REACHED LIMIT.\n",
      "\n",
      "Increase the number of iterations (max_iter) or scale the data as shown in:\n",
      "    https://scikit-learn.org/stable/modules/preprocessing.html\n",
      "Please also refer to the documentation for alternative solver options:\n",
      "    https://scikit-learn.org/stable/modules/linear_model.html#logistic-regression\n",
      "  n_iter_i = _check_optimize_result(\n",
      "C:\\Users\\bellal\\Anaconda3\\lib\\site-packages\\sklearn\\linear_model\\_logistic.py:763: ConvergenceWarning: lbfgs failed to converge (status=1):\n",
      "STOP: TOTAL NO. of ITERATIONS REACHED LIMIT.\n",
      "\n",
      "Increase the number of iterations (max_iter) or scale the data as shown in:\n",
      "    https://scikit-learn.org/stable/modules/preprocessing.html\n",
      "Please also refer to the documentation for alternative solver options:\n",
      "    https://scikit-learn.org/stable/modules/linear_model.html#logistic-regression\n",
      "  n_iter_i = _check_optimize_result(\n",
      "C:\\Users\\bellal\\Anaconda3\\lib\\site-packages\\sklearn\\linear_model\\_logistic.py:763: ConvergenceWarning: lbfgs failed to converge (status=1):\n",
      "STOP: TOTAL NO. of ITERATIONS REACHED LIMIT.\n",
      "\n",
      "Increase the number of iterations (max_iter) or scale the data as shown in:\n",
      "    https://scikit-learn.org/stable/modules/preprocessing.html\n",
      "Please also refer to the documentation for alternative solver options:\n",
      "    https://scikit-learn.org/stable/modules/linear_model.html#logistic-regression\n",
      "  n_iter_i = _check_optimize_result(\n",
      "C:\\Users\\bellal\\Anaconda3\\lib\\site-packages\\sklearn\\linear_model\\_logistic.py:763: ConvergenceWarning: lbfgs failed to converge (status=1):\n",
      "STOP: TOTAL NO. of ITERATIONS REACHED LIMIT.\n",
      "\n",
      "Increase the number of iterations (max_iter) or scale the data as shown in:\n",
      "    https://scikit-learn.org/stable/modules/preprocessing.html\n",
      "Please also refer to the documentation for alternative solver options:\n",
      "    https://scikit-learn.org/stable/modules/linear_model.html#logistic-regression\n",
      "  n_iter_i = _check_optimize_result(\n",
      "C:\\Users\\bellal\\Anaconda3\\lib\\site-packages\\sklearn\\linear_model\\_logistic.py:763: ConvergenceWarning: lbfgs failed to converge (status=1):\n",
      "STOP: TOTAL NO. of ITERATIONS REACHED LIMIT.\n",
      "\n",
      "Increase the number of iterations (max_iter) or scale the data as shown in:\n",
      "    https://scikit-learn.org/stable/modules/preprocessing.html\n",
      "Please also refer to the documentation for alternative solver options:\n",
      "    https://scikit-learn.org/stable/modules/linear_model.html#logistic-regression\n",
      "  n_iter_i = _check_optimize_result(\n",
      "C:\\Users\\bellal\\Anaconda3\\lib\\site-packages\\sklearn\\linear_model\\_logistic.py:763: ConvergenceWarning: lbfgs failed to converge (status=1):\n",
      "STOP: TOTAL NO. of ITERATIONS REACHED LIMIT.\n",
      "\n",
      "Increase the number of iterations (max_iter) or scale the data as shown in:\n",
      "    https://scikit-learn.org/stable/modules/preprocessing.html\n",
      "Please also refer to the documentation for alternative solver options:\n",
      "    https://scikit-learn.org/stable/modules/linear_model.html#logistic-regression\n",
      "  n_iter_i = _check_optimize_result(\n",
      "C:\\Users\\bellal\\Anaconda3\\lib\\site-packages\\sklearn\\linear_model\\_logistic.py:763: ConvergenceWarning: lbfgs failed to converge (status=1):\n",
      "STOP: TOTAL NO. of ITERATIONS REACHED LIMIT.\n",
      "\n",
      "Increase the number of iterations (max_iter) or scale the data as shown in:\n",
      "    https://scikit-learn.org/stable/modules/preprocessing.html\n",
      "Please also refer to the documentation for alternative solver options:\n",
      "    https://scikit-learn.org/stable/modules/linear_model.html#logistic-regression\n",
      "  n_iter_i = _check_optimize_result(\n",
      "C:\\Users\\bellal\\Anaconda3\\lib\\site-packages\\sklearn\\linear_model\\_logistic.py:763: ConvergenceWarning: lbfgs failed to converge (status=1):\n",
      "STOP: TOTAL NO. of ITERATIONS REACHED LIMIT.\n",
      "\n",
      "Increase the number of iterations (max_iter) or scale the data as shown in:\n",
      "    https://scikit-learn.org/stable/modules/preprocessing.html\n",
      "Please also refer to the documentation for alternative solver options:\n",
      "    https://scikit-learn.org/stable/modules/linear_model.html#logistic-regression\n",
      "  n_iter_i = _check_optimize_result(\n",
      "C:\\Users\\bellal\\Anaconda3\\lib\\site-packages\\sklearn\\linear_model\\_logistic.py:763: ConvergenceWarning: lbfgs failed to converge (status=1):\n",
      "STOP: TOTAL NO. of ITERATIONS REACHED LIMIT.\n",
      "\n",
      "Increase the number of iterations (max_iter) or scale the data as shown in:\n",
      "    https://scikit-learn.org/stable/modules/preprocessing.html\n",
      "Please also refer to the documentation for alternative solver options:\n",
      "    https://scikit-learn.org/stable/modules/linear_model.html#logistic-regression\n",
      "  n_iter_i = _check_optimize_result(\n",
      "C:\\Users\\bellal\\Anaconda3\\lib\\site-packages\\sklearn\\linear_model\\_logistic.py:763: ConvergenceWarning: lbfgs failed to converge (status=1):\n",
      "STOP: TOTAL NO. of ITERATIONS REACHED LIMIT.\n",
      "\n",
      "Increase the number of iterations (max_iter) or scale the data as shown in:\n",
      "    https://scikit-learn.org/stable/modules/preprocessing.html\n",
      "Please also refer to the documentation for alternative solver options:\n",
      "    https://scikit-learn.org/stable/modules/linear_model.html#logistic-regression\n",
      "  n_iter_i = _check_optimize_result(\n",
      "C:\\Users\\bellal\\Anaconda3\\lib\\site-packages\\sklearn\\linear_model\\_logistic.py:763: ConvergenceWarning: lbfgs failed to converge (status=1):\n",
      "STOP: TOTAL NO. of ITERATIONS REACHED LIMIT.\n",
      "\n",
      "Increase the number of iterations (max_iter) or scale the data as shown in:\n",
      "    https://scikit-learn.org/stable/modules/preprocessing.html\n",
      "Please also refer to the documentation for alternative solver options:\n",
      "    https://scikit-learn.org/stable/modules/linear_model.html#logistic-regression\n",
      "  n_iter_i = _check_optimize_result(\n",
      "C:\\Users\\bellal\\Anaconda3\\lib\\site-packages\\sklearn\\linear_model\\_logistic.py:763: ConvergenceWarning: lbfgs failed to converge (status=1):\n",
      "STOP: TOTAL NO. of ITERATIONS REACHED LIMIT.\n",
      "\n",
      "Increase the number of iterations (max_iter) or scale the data as shown in:\n",
      "    https://scikit-learn.org/stable/modules/preprocessing.html\n",
      "Please also refer to the documentation for alternative solver options:\n",
      "    https://scikit-learn.org/stable/modules/linear_model.html#logistic-regression\n",
      "  n_iter_i = _check_optimize_result(\n",
      "C:\\Users\\bellal\\Anaconda3\\lib\\site-packages\\sklearn\\linear_model\\_logistic.py:763: ConvergenceWarning: lbfgs failed to converge (status=1):\n",
      "STOP: TOTAL NO. of ITERATIONS REACHED LIMIT.\n",
      "\n",
      "Increase the number of iterations (max_iter) or scale the data as shown in:\n",
      "    https://scikit-learn.org/stable/modules/preprocessing.html\n",
      "Please also refer to the documentation for alternative solver options:\n",
      "    https://scikit-learn.org/stable/modules/linear_model.html#logistic-regression\n",
      "  n_iter_i = _check_optimize_result(\n",
      "C:\\Users\\bellal\\Anaconda3\\lib\\site-packages\\sklearn\\linear_model\\_logistic.py:763: ConvergenceWarning: lbfgs failed to converge (status=1):\n",
      "STOP: TOTAL NO. of ITERATIONS REACHED LIMIT.\n",
      "\n",
      "Increase the number of iterations (max_iter) or scale the data as shown in:\n",
      "    https://scikit-learn.org/stable/modules/preprocessing.html\n",
      "Please also refer to the documentation for alternative solver options:\n",
      "    https://scikit-learn.org/stable/modules/linear_model.html#logistic-regression\n",
      "  n_iter_i = _check_optimize_result(\n",
      "C:\\Users\\bellal\\Anaconda3\\lib\\site-packages\\sklearn\\linear_model\\_logistic.py:763: ConvergenceWarning: lbfgs failed to converge (status=1):\n",
      "STOP: TOTAL NO. of ITERATIONS REACHED LIMIT.\n",
      "\n",
      "Increase the number of iterations (max_iter) or scale the data as shown in:\n",
      "    https://scikit-learn.org/stable/modules/preprocessing.html\n",
      "Please also refer to the documentation for alternative solver options:\n",
      "    https://scikit-learn.org/stable/modules/linear_model.html#logistic-regression\n",
      "  n_iter_i = _check_optimize_result(\n",
      "C:\\Users\\bellal\\Anaconda3\\lib\\site-packages\\sklearn\\linear_model\\_logistic.py:763: ConvergenceWarning: lbfgs failed to converge (status=1):\n",
      "STOP: TOTAL NO. of ITERATIONS REACHED LIMIT.\n",
      "\n",
      "Increase the number of iterations (max_iter) or scale the data as shown in:\n",
      "    https://scikit-learn.org/stable/modules/preprocessing.html\n",
      "Please also refer to the documentation for alternative solver options:\n",
      "    https://scikit-learn.org/stable/modules/linear_model.html#logistic-regression\n",
      "  n_iter_i = _check_optimize_result(\n",
      "C:\\Users\\bellal\\Anaconda3\\lib\\site-packages\\sklearn\\linear_model\\_logistic.py:763: ConvergenceWarning: lbfgs failed to converge (status=1):\n",
      "STOP: TOTAL NO. of ITERATIONS REACHED LIMIT.\n",
      "\n",
      "Increase the number of iterations (max_iter) or scale the data as shown in:\n",
      "    https://scikit-learn.org/stable/modules/preprocessing.html\n",
      "Please also refer to the documentation for alternative solver options:\n",
      "    https://scikit-learn.org/stable/modules/linear_model.html#logistic-regression\n",
      "  n_iter_i = _check_optimize_result(\n",
      "C:\\Users\\bellal\\Anaconda3\\lib\\site-packages\\sklearn\\linear_model\\_logistic.py:763: ConvergenceWarning: lbfgs failed to converge (status=1):\n",
      "STOP: TOTAL NO. of ITERATIONS REACHED LIMIT.\n",
      "\n",
      "Increase the number of iterations (max_iter) or scale the data as shown in:\n",
      "    https://scikit-learn.org/stable/modules/preprocessing.html\n",
      "Please also refer to the documentation for alternative solver options:\n",
      "    https://scikit-learn.org/stable/modules/linear_model.html#logistic-regression\n",
      "  n_iter_i = _check_optimize_result(\n",
      "C:\\Users\\bellal\\Anaconda3\\lib\\site-packages\\sklearn\\linear_model\\_logistic.py:763: ConvergenceWarning: lbfgs failed to converge (status=1):\n",
      "STOP: TOTAL NO. of ITERATIONS REACHED LIMIT.\n",
      "\n",
      "Increase the number of iterations (max_iter) or scale the data as shown in:\n",
      "    https://scikit-learn.org/stable/modules/preprocessing.html\n",
      "Please also refer to the documentation for alternative solver options:\n",
      "    https://scikit-learn.org/stable/modules/linear_model.html#logistic-regression\n",
      "  n_iter_i = _check_optimize_result(\n",
      "C:\\Users\\bellal\\Anaconda3\\lib\\site-packages\\sklearn\\linear_model\\_logistic.py:763: ConvergenceWarning: lbfgs failed to converge (status=1):\n",
      "STOP: TOTAL NO. of ITERATIONS REACHED LIMIT.\n",
      "\n",
      "Increase the number of iterations (max_iter) or scale the data as shown in:\n",
      "    https://scikit-learn.org/stable/modules/preprocessing.html\n",
      "Please also refer to the documentation for alternative solver options:\n",
      "    https://scikit-learn.org/stable/modules/linear_model.html#logistic-regression\n",
      "  n_iter_i = _check_optimize_result(\n",
      "C:\\Users\\bellal\\Anaconda3\\lib\\site-packages\\sklearn\\linear_model\\_logistic.py:763: ConvergenceWarning: lbfgs failed to converge (status=1):\n",
      "STOP: TOTAL NO. of ITERATIONS REACHED LIMIT.\n",
      "\n",
      "Increase the number of iterations (max_iter) or scale the data as shown in:\n",
      "    https://scikit-learn.org/stable/modules/preprocessing.html\n",
      "Please also refer to the documentation for alternative solver options:\n",
      "    https://scikit-learn.org/stable/modules/linear_model.html#logistic-regression\n",
      "  n_iter_i = _check_optimize_result(\n"
     ]
    },
    {
     "data": {
      "image/png": "[encoded data removed]",
      "text/plain": [
       "<Figure size 432x288 with 1 Axes>"
      ]
     },
     "metadata": {
      "needs_background": "light"
     },
     "output_type": "display_data"
    }
   ],
   "source": [
    "from sklearn.model_selection import learning_curve\n",
    "\n",
    "train_sizes,train_scores,test_scores=learning_curve(logreg,X,y)\n",
    "plt.ylim((0.7,1.1)) \n",
    "plt.xlabel(\"training examples\")\n",
    "plt.ylabel(\"score\")\n",
    "plt.grid()\n",
    "plt.plot(train_sizes,np.mean(train_scores,axis=1),'o-',color='r',label='train score')\n",
    "plt.plot(train_sizes,np.mean(test_scores,axis=1),'o-',color='g',label='test score')\n",
    "plt.legend(loc='best')\n",
    "plt.show()"
   ]
  },
  {
   "cell_type": "code",
   "execution_count": 68,
   "id": "78d3802c",
   "metadata": {},
   "outputs": [],
   "source": [
    "#c. Can you design and develop any other model for solving this problem? If so, then why have you used the reported one? Give your justification"
   ]
  },
  {
   "cell_type": "code",
   "execution_count": 69,
   "id": "875a1ebd",
   "metadata": {},
   "outputs": [
    {
     "name": "stdout",
     "output_type": "stream",
     "text": [
      "The accuracy score is: 85.0 %\n",
      "**************************************************\n",
      "The classification report is:\n",
      "               precision    recall  f1-score   support\n",
      "\n",
      "           0       0.94      0.81      0.87        36\n",
      "           1       0.76      0.92      0.83        24\n",
      "\n",
      "    accuracy                           0.85        60\n",
      "   macro avg       0.85      0.86      0.85        60\n",
      "weighted avg       0.86      0.85      0.85        60\n",
      "\n",
      "**************************************************\n",
      "The confusion matrix is:\n",
      " [[29  7]\n",
      " [ 2 22]]\n"
     ]
    }
   ],
   "source": [
    "# Naive Bayes classifier\n",
    "\n",
    "from sklearn.naive_bayes import MultinomialNB\n",
    "\n",
    "MulNB = MultinomialNB()\n",
    "MulNB.fit(X_train,y_train)\n",
    "y_pred = MulNB.predict(X_test)\n",
    "\n",
    "a,b,c = evaluation(y_test,y_pred)\n",
    "print('The accuracy score is:',a,'%')\n",
    "print('*'*50)\n",
    "print('The classification report is:\\n',b)\n",
    "print('*'*50)\n",
    "print('The confusion matrix is:\\n',c)"
   ]
  },
  {
   "cell_type": "code",
   "execution_count": 70,
   "id": "16a683df",
   "metadata": {},
   "outputs": [
    {
     "data": {
      "image/png": "[encoded data removed]",
      "text/plain": [
       "<Figure size 432x288 with 1 Axes>"
      ]
     },
     "metadata": {
      "needs_background": "light"
     },
     "output_type": "display_data"
    }
   ],
   "source": [
    "# Draw ROC graph and print AUC value\n",
    "\n",
    "MulNB_roc_auc = roc_auc_score(y_test, MulNB.predict(X_test))\n",
    "fpr, tpr, thresholds = roc_curve(y_test, MulNB.predict_proba(X_test)[:,1])\n",
    "plt.figure()\n",
    "plt.plot(fpr, tpr, label='Multinomial Naive Bayes (area = %0.2f)' % MulNB_roc_auc)\n",
    "plt.plot([0, 1], [0, 1],'r--')\n",
    "plt.xlim([0.0, 1.0])\n",
    "plt.ylim([0.0, 1.05])\n",
    "plt.xlabel('False Positive Rate')\n",
    "plt.ylabel('True Positive Rate')\n",
    "plt.title('Receiver operating characteristic')\n",
    "plt.legend(loc=\"best\")\n",
    "plt.show()"
   ]
  },
  {
   "cell_type": "code",
   "execution_count": 71,
   "id": "062224fb",
   "metadata": {},
   "outputs": [
    {
     "data": {
      "image/png": "[encoded data removed]",
      "text/plain": [
       "<Figure size 432x288 with 1 Axes>"
      ]
     },
     "metadata": {
      "needs_background": "light"
     },
     "output_type": "display_data"
    }
   ],
   "source": [
    "from sklearn.model_selection import learning_curve\n",
    "\n",
    "train_sizes,train_scores,test_scores=learning_curve(MulNB,X,y)\n",
    "plt.ylim((0.7,1.1)) \n",
    "plt.xlabel(\"training examples\")\n",
    "plt.ylabel(\"score\")\n",
    "plt.grid()\n",
    "plt.plot(train_sizes,np.mean(train_scores,axis=1),'o-',color='r',label='train score')\n",
    "plt.plot(train_sizes,np.mean(test_scores,axis=1),'o-',color='g',label='test score')\n",
    "plt.legend(loc='best')\n",
    "plt.show()"
   ]
  },
  {
   "cell_type": "code",
   "execution_count": 72,
   "id": "94aa0672",
   "metadata": {},
   "outputs": [
    {
     "name": "stdout",
     "output_type": "stream",
     "text": [
      "The accuracy score is: 90.0 %\n",
      "**************************************************\n",
      "The classification report is:\n",
      "               precision    recall  f1-score   support\n",
      "\n",
      "           0       0.94      0.89      0.91        36\n",
      "           1       0.85      0.92      0.88        24\n",
      "\n",
      "    accuracy                           0.90        60\n",
      "   macro avg       0.89      0.90      0.90        60\n",
      "weighted avg       0.90      0.90      0.90        60\n",
      "\n",
      "**************************************************\n",
      "The confusion matrix is:\n",
      " [[32  4]\n",
      " [ 2 22]]\n"
     ]
    }
   ],
   "source": [
    "#Linear Discriminant Analysis\n",
    "\n",
    "from sklearn.discriminant_analysis import LinearDiscriminantAnalysis\n",
    "\n",
    "lda = LinearDiscriminantAnalysis()\n",
    "lda.fit(X_train,y_train)\n",
    "y_pred = lda.predict(X_test)\n",
    "\n",
    "a,b,c = evaluation(y_test,y_pred)\n",
    "print('The accuracy score is:',a,'%')\n",
    "print('*'*50)\n",
    "print('The classification report is:\\n',b)\n",
    "print('*'*50)\n",
    "print('The confusion matrix is:\\n',c)"
   ]
  },
  {
   "cell_type": "code",
   "execution_count": 73,
   "id": "3dfba757",
   "metadata": {},
   "outputs": [
    {
     "data": {
      "image/png": "[encoded data removed]",
      "text/plain": [
       "<Figure size 432x288 with 1 Axes>"
      ]
     },
     "metadata": {
      "needs_background": "light"
     },
     "output_type": "display_data"
    }
   ],
   "source": [
    "# Draw ROC graph and print AUC value\n",
    "\n",
    "lda_roc_auc = roc_auc_score(y_test, lda.predict(X_test))\n",
    "fpr, tpr, thresholds = roc_curve(y_test, lda.predict_proba(X_test)[:,1])\n",
    "plt.figure()\n",
    "plt.plot(fpr, tpr, label='Linear Discriminant Analysis (area = %0.2f)' % lda_roc_auc)\n",
    "plt.plot([0, 1], [0, 1],'r--')\n",
    "plt.xlim([0.0, 1.0])\n",
    "plt.ylim([0.0, 1.05])\n",
    "plt.xlabel('False Positive Rate')\n",
    "plt.ylabel('True Positive Rate')\n",
    "plt.title('Receiver operating characteristic')\n",
    "plt.legend(loc=\"best\")\n",
    "plt.show()"
   ]
  },
  {
   "cell_type": "code",
   "execution_count": 74,
   "id": "50c8eb74",
   "metadata": {},
   "outputs": [
    {
     "data": {
      "image/png": "[encoded data removed]",
      "text/plain": [
       "<Figure size 432x288 with 1 Axes>"
      ]
     },
     "metadata": {
      "needs_background": "light"
     },
     "output_type": "display_data"
    }
   ],
   "source": [
    "from sklearn.model_selection import learning_curve\n",
    "\n",
    "train_sizes,train_scores,test_scores=learning_curve(lda,X,y)\n",
    "plt.ylim((0.5,1.1)) \n",
    "plt.xlabel(\"training examples\")\n",
    "plt.ylabel(\"score\")\n",
    "plt.grid()\n",
    "plt.plot(train_sizes,np.mean(train_scores,axis=1),'o-',color='r',label='train score')\n",
    "plt.plot(train_sizes,np.mean(test_scores,axis=1),'o-',color='g',label='test score')\n",
    "plt.legend(loc='best')\n",
    "plt.show()"
   ]
  },
  {
   "cell_type": "code",
   "execution_count": 75,
   "id": "837854bc",
   "metadata": {},
   "outputs": [
    {
     "name": "stdout",
     "output_type": "stream",
     "text": [
      "Age -0.00034527879969372446\n",
      "Sex 1.262801719373997\n",
      "chest pain type 0.7637135464875642\n",
      "Trestbps 0.029506625111413803\n",
      "chol 0.0017079652592439825\n",
      "fbs -1.2319438107145153\n",
      "restecg 0.24112110569977208\n",
      "thalach -0.02235195457239031\n",
      "exang 1.3900843643689447\n",
      "oldpeak 0.02515853589549697\n",
      "slope 0.5694754444695334\n",
      "ca 1.1386682576789964\n",
      "thal 0.4672476201476715\n"
     ]
    }
   ],
   "source": [
    "# Print the coefficients of linear discriminant\n",
    "\n",
    "feature_cols = []\n",
    "for each in att_data:\n",
    "    feature_cols.append(each)\n",
    "\n",
    "feature_coef = list(zip(feature_cols,np.squeeze(lda.coef_)))\n",
    "for a,b in feature_coef:\n",
    "    print(a,b)"
   ]
  },
  {
   "cell_type": "code",
   "execution_count": 76,
   "id": "20edf60e",
   "metadata": {},
   "outputs": [
    {
     "name": "stdout",
     "output_type": "stream",
     "text": [
      "The accuracy score is: 56.67 %\n",
      "**************************************************\n",
      "The classification report is:\n",
      "               precision    recall  f1-score   support\n",
      "\n",
      "           0       0.62      0.72      0.67        36\n",
      "           1       0.44      0.33      0.38        24\n",
      "\n",
      "    accuracy                           0.57        60\n",
      "   macro avg       0.53      0.53      0.52        60\n",
      "weighted avg       0.55      0.57      0.55        60\n",
      "\n",
      "**************************************************\n",
      "The confusion matrix is:\n",
      " [[26 10]\n",
      " [16  8]]\n"
     ]
    }
   ],
   "source": [
    "# KNN Classifier\n",
    "\n",
    "from sklearn.neighbors import KNeighborsClassifier\n",
    "\n",
    "KNN = KNeighborsClassifier(n_neighbors = 2)\n",
    "KNN.fit(X_train,y_train)\n",
    "y_pred = KNN.predict(X_test)\n",
    "\n",
    "a,b,c = evaluation(y_test,y_pred)\n",
    "print('The accuracy score is:',a,'%')\n",
    "print('*'*50)\n",
    "print('The classification report is:\\n',b)\n",
    "print('*'*50)\n",
    "print('The confusion matrix is:\\n',c)"
   ]
  },
  {
   "cell_type": "code",
   "execution_count": 77,
   "id": "7b97cdd0",
   "metadata": {},
   "outputs": [
    {
     "data": {
      "image/png": "[encoded data removed]",
      "text/plain": [
       "<Figure size 432x288 with 1 Axes>"
      ]
     },
     "metadata": {
      "needs_background": "light"
     },
     "output_type": "display_data"
    }
   ],
   "source": [
    "# Draw ROC graph and print AUC value\n",
    "\n",
    "KNN_roc_auc = roc_auc_score(y_test, KNN.predict(X_test))\n",
    "fpr, tpr, thresholds = roc_curve(y_test, KNN.predict_proba(X_test)[:,1])\n",
    "plt.figure()\n",
    "plt.plot(fpr, tpr, label='KNeighbors Classifier (area = %0.2f)' % KNN_roc_auc)\n",
    "plt.plot([0, 1], [0, 1],'r--')\n",
    "plt.xlim([0.0, 1.0])\n",
    "plt.ylim([0.0, 1.05])\n",
    "plt.xlabel('False Positive Rate')\n",
    "plt.ylabel('True Positive Rate')\n",
    "plt.title('Receiver operating characteristic')\n",
    "plt.legend(loc=\"best\")\n",
    "plt.show()"
   ]
  },
  {
   "cell_type": "code",
   "execution_count": 78,
   "id": "5a334717",
   "metadata": {},
   "outputs": [
    {
     "data": {
      "image/png": "[encoded data removed]",
      "text/plain": [
       "<Figure size 432x288 with 1 Axes>"
      ]
     },
     "metadata": {
      "needs_background": "light"
     },
     "output_type": "display_data"
    }
   ],
   "source": [
    "train_sizes,train_scores,test_scores=learning_curve(KNN,X,y)\n",
    "plt.ylim((0.5,1.1)) \n",
    "plt.xlabel(\"training examples\")\n",
    "plt.ylabel(\"score\")\n",
    "plt.grid()\n",
    "plt.plot(train_sizes,np.mean(train_scores,axis=1),'o-',color='r',label='train score')\n",
    "plt.plot(train_sizes,np.mean(test_scores,axis=1),'o-',color='g',label='test score')\n",
    "plt.legend(loc='best')\n",
    "plt.show()"
   ]
  },
  {
   "cell_type": "code",
   "execution_count": 79,
   "id": "3cc39df5",
   "metadata": {},
   "outputs": [
    {
     "name": "stdout",
     "output_type": "stream",
     "text": [
      "The accuracy score is: 86.67 %\n",
      "**************************************************\n",
      "The classification report is:\n",
      "               precision    recall  f1-score   support\n",
      "\n",
      "           0       0.91      0.86      0.89        36\n",
      "           1       0.81      0.88      0.84        24\n",
      "\n",
      "    accuracy                           0.87        60\n",
      "   macro avg       0.86      0.87      0.86        60\n",
      "weighted avg       0.87      0.87      0.87        60\n",
      "\n",
      "**************************************************\n",
      "The confusion matrix is:\n",
      " [[31  5]\n",
      " [ 3 21]]\n"
     ]
    }
   ],
   "source": [
    "# Random Forest Classifier\n",
    "\n",
    "from sklearn.ensemble import RandomForestClassifier\n",
    "\n",
    "RFC = RandomForestClassifier()\n",
    "RFC.fit(X_train,y_train)\n",
    "y_pred = RFC.predict(X_test)\n",
    "\n",
    "a,b,c = evaluation(y_test,y_pred)\n",
    "print('The accuracy score is:',a,'%')\n",
    "print('*'*50)\n",
    "print('The classification report is:\\n',b)\n",
    "print('*'*50)\n",
    "print('The confusion matrix is:\\n',c)"
   ]
  },
  {
   "cell_type": "code",
   "execution_count": 80,
   "id": "927688fa",
   "metadata": {},
   "outputs": [
    {
     "data": {
      "image/png": "[encoded data removed]",
      "text/plain": [
       "<Figure size 432x288 with 1 Axes>"
      ]
     },
     "metadata": {
      "needs_background": "light"
     },
     "output_type": "display_data"
    }
   ],
   "source": [
    "# Draw ROC graph and print AUC value\n",
    "\n",
    "RFC_roc_auc = roc_auc_score(y_test, RFC.predict(X_test))\n",
    "fpr, tpr, thresholds = roc_curve(y_test, RFC.predict_proba(X_test)[:,1])\n",
    "plt.figure()\n",
    "plt.plot(fpr, tpr, label='Random Forest Classifier (area = %0.2f)' % RFC_roc_auc)\n",
    "plt.plot([0, 1], [0, 1],'r--')\n",
    "plt.xlim([0.0, 1.0])\n",
    "plt.ylim([0.0, 1.05])\n",
    "plt.xlabel('False Positive Rate')\n",
    "plt.ylabel('True Positive Rate')\n",
    "plt.title('Receiver operating characteristic')\n",
    "plt.legend(loc=\"best\")\n",
    "plt.show()"
   ]
  },
  {
   "cell_type": "code",
   "execution_count": 81,
   "id": "a6926a35",
   "metadata": {},
   "outputs": [
    {
     "data": {
      "image/png": "[encoded data removed]",
      "text/plain": [
       "<Figure size 432x288 with 1 Axes>"
      ]
     },
     "metadata": {
      "needs_background": "light"
     },
     "output_type": "display_data"
    }
   ],
   "source": [
    "from sklearn.model_selection import learning_curve\n",
    "\n",
    "train_sizes,train_scores,test_scores=learning_curve(RFC,X,y)\n",
    "plt.ylim((0.7,1.1)) \n",
    "plt.xlabel(\"training examples\")\n",
    "plt.ylabel(\"score\")\n",
    "plt.grid()\n",
    "plt.plot(train_sizes,np.mean(train_scores,axis=1),'o-',color='r',label='train score')\n",
    "plt.plot(train_sizes,np.mean(test_scores,axis=1),'o-',color='g',label='test score')\n",
    "plt.legend(loc='best')\n",
    "plt.show()"
   ]
  },
  {
   "cell_type": "code",
   "execution_count": 82,
   "id": "367e5394",
   "metadata": {},
   "outputs": [],
   "source": [
    "# 11. Suppose that a company has a number (>=500) of resorts around the globe."
   ]
  },
  {
   "cell_type": "code",
   "execution_count": 83,
   "id": "11c30825",
   "metadata": {},
   "outputs": [],
   "source": [
    "#a. Identify a list of features (>=5) that can be used to describe these resorts."
   ]
  },
  {
   "cell_type": "code",
   "execution_count": 84,
   "id": "5120c96a",
   "metadata": {},
   "outputs": [],
   "source": [
    "#b. Create a dataset (rows>=500) and explain all variables. You can generate data either synthetically or collecting from similar datasets. Submit your created dataset. In addition, please provide links in case you have collected the dataset."
   ]
  },
  {
   "cell_type": "code",
   "execution_count": 85,
   "id": "1188d98c",
   "metadata": {},
   "outputs": [
    {
     "name": "stdout",
     "output_type": "stream",
     "text": [
      "               id                                               name  \\\n",
      "0        resort_1  Affordable Loft Studio in a Shophouse (Neil Road)   \n",
      "1       resort_10              Amazing apartment with a unique view!   \n",
      "2      resort_100  Besiden Bugis HAJI lane APTwith awsome facilit...   \n",
      "3     resort_1000             Pretty condo go city centre 10 minutes   \n",
      "4     resort_1001              prewar doublebed *RmK > lavender MRT.   \n",
      "...           ...                                                ...   \n",
      "1418   resort_995       PREMIER 1BEDROOM SUITES AT MARINA BAY CENTRE   \n",
      "1419   resort_996  Premium Apt close to MRT station & Shopping Malls   \n",
      "1420   resort_997  Premium Apt close to MRT station & Shopping Malls   \n",
      "1421   resort_998  Premium Central Studio Apt @ Orchard/Somerset ...   \n",
      "1422   resort_999                       PREMIUM STUDIO, TRANS STREET   \n",
      "\n",
      "      neighbourhood  standard_studio  standard_double_room  vacation_home  \\\n",
      "0       Bukit Merah                1                     0              0   \n",
      "1     Downtown Core                0                     0              1   \n",
      "2           Kallang                0                     0              1   \n",
      "3           Hougang                1                     0              0   \n",
      "4           Kallang                1                     0              0   \n",
      "...             ...              ...                   ...            ...   \n",
      "1418  Downtown Core                0                     0              1   \n",
      "1419     Queenstown                0                     0              1   \n",
      "1420    Jurong East                0                     0              1   \n",
      "1421   River Valley                0                     0              1   \n",
      "1422         Outram                0                     0              1   \n",
      "\n",
      "      price  minimum_nights  number_of_reviews  reviews_per_month  \\\n",
      "0       140               6                  1                  1   \n",
      "1       250               5                  2                  0   \n",
      "2       219               2                  3                  2   \n",
      "3        42               1                 19                  1   \n",
      "4        43              18                  1                  0   \n",
      "...     ...             ...                ...                ...   \n",
      "1418    276               1                  7                  1   \n",
      "1419    135              25                  2                  0   \n",
      "1420    144               7                  2                  1   \n",
      "1421    131               2                  2                  1   \n",
      "1422    200               7                  1                  1   \n",
      "\n",
      "      air_conditioning  heater  swimming_pool  skii_facility  free_WIFI  \\\n",
      "0                    1       1              0              1          0   \n",
      "1                    1       0              1              1          1   \n",
      "2                    1       1              1              1          1   \n",
      "3                    0       0              0              0          0   \n",
      "4                    1       0              0              0          0   \n",
      "...                ...     ...            ...            ...        ...   \n",
      "1418                 1       1              1              1          1   \n",
      "1419                 1       0              0              1          1   \n",
      "1420                 1       0              0              0          0   \n",
      "1421                 1       0              0              0          1   \n",
      "1422                 1       1              1              0          1   \n",
      "\n",
      "      in-room_safe_box  mini_bar  labels  \n",
      "0                    0         0       2  \n",
      "1                    1         0       5  \n",
      "2                    1         1       5  \n",
      "3                    0         0       2  \n",
      "4                    0         0       1  \n",
      "...                ...       ...     ...  \n",
      "1418                 1         1       5  \n",
      "1419                 1         1       5  \n",
      "1420                 0         1       1  \n",
      "1421                 1         1       1  \n",
      "1422                 1         1       5  \n",
      "\n",
      "[1423 rows x 18 columns]\n"
     ]
    }
   ],
   "source": [
    "data= pd.read_csv(\"resorts.csv\")\n",
    "print(data)"
   ]
  },
  {
   "cell_type": "code",
   "execution_count": 86,
   "id": "9fecb22d",
   "metadata": {},
   "outputs": [
    {
     "name": "stdout",
     "output_type": "stream",
     "text": [
      "      price  air_conditioning  heater  swimming_pool  skii_facility\n",
      "0       140                 1       1              0              1\n",
      "1       250                 1       0              1              1\n",
      "2       219                 1       1              1              1\n",
      "3        42                 0       0              0              0\n",
      "4        43                 1       0              0              0\n",
      "...     ...               ...     ...            ...            ...\n",
      "1418    276                 1       1              1              1\n",
      "1419    135                 1       0              0              1\n",
      "1420    144                 1       0              0              0\n",
      "1421    131                 1       0              0              0\n",
      "1422    200                 1       1              1              0\n",
      "\n",
      "[1423 rows x 5 columns]\n"
     ]
    }
   ],
   "source": [
    "df = data.drop(['id','name','neighbourhood','number_of_reviews','reviews_per_month','minimum_nights','standard_studio','standard_double_room','vacation_home','free_WIFI','in-room_safe_box','mini_bar','labels'],axis=1)\n",
    "print(df)"
   ]
  },
  {
   "cell_type": "code",
   "execution_count": 87,
   "id": "325d00b8",
   "metadata": {},
   "outputs": [],
   "source": [
    "X = np.array(df)\n",
    "labels = np.array(data['labels'])"
   ]
  },
  {
   "cell_type": "code",
   "execution_count": 88,
   "id": "5e27c854",
   "metadata": {},
   "outputs": [],
   "source": [
    "#c. Build a ML model that can help a customer to select appropriate set of resorts based on the season of travel. Present and describe the performance of your model."
   ]
  },
  {
   "cell_type": "code",
   "execution_count": 89,
   "id": "04ea86a4",
   "metadata": {},
   "outputs": [
    {
     "name": "stderr",
     "output_type": "stream",
     "text": [
      "C:\\Users\\bellal\\Anaconda3\\lib\\site-packages\\sklearn\\cluster\\_kmeans.py:881: UserWarning: KMeans is known to have a memory leak on Windows with MKL, when there are less chunks than available threads. You can avoid it by setting the environment variable OMP_NUM_THREADS=6.\n",
      "  warnings.warn(\n"
     ]
    },
    {
     "data": {
      "text/plain": [
       "Text(0.5, 0, 'Number of cluster')"
      ]
     },
     "execution_count": 89,
     "metadata": {},
     "output_type": "execute_result"
    },
    {
     "data": {
      "image/png": "[encoded data removed]",
      "text/plain": [
       "<Figure size 432x288 with 1 Axes>"
      ]
     },
     "metadata": {
      "needs_background": "light"
     },
     "output_type": "display_data"
    }
   ],
   "source": [
    "totSqrdDist=[]\n",
    "kRange=range(1,30)\n",
    "for k in kRange:\n",
    "    kmns = KMeans(n_clusters=k)\n",
    "    kmns = kmns.fit(X)\n",
    "    totSqrdDist.append(kmns.inertia_)\n",
    "\n",
    "plt.plot(kRange,totSqrdDist,'-xk')\n",
    "plt.ylabel('Sum of squared distance')\n",
    "plt.xlabel('Number of cluster')"
   ]
  },
  {
   "cell_type": "code",
   "execution_count": 90,
   "id": "0f9d58cf",
   "metadata": {},
   "outputs": [],
   "source": [
    "#Accroding to the graph above, n = 5 is a relative good choice for conducting clustering."
   ]
  },
  {
   "cell_type": "code",
   "execution_count": 91,
   "id": "be46c34e",
   "metadata": {},
   "outputs": [],
   "source": [
    "#pip install kmodes"
   ]
  },
  {
   "cell_type": "code",
   "execution_count": 92,
   "id": "e78843e0",
   "metadata": {},
   "outputs": [],
   "source": [
    "from sklearn.metrics import adjusted_rand_score\n",
    "from sklearn.metrics.cluster import adjusted_mutual_info_score\n",
    "from sklearn.metrics import jaccard_score\n",
    "from sklearn.metrics import accuracy_score\n",
    "from sklearn.metrics import classification_report\n",
    "\n",
    "def eva(labels,Ylabels):\n",
    "    print(\"The adjusted Rand score is:\",round(adjusted_rand_score(Ylabels,labels),4))\n",
    "    print(\"The adjusted Mutual info score is:\",round(adjusted_mutual_info_score(Ylabels,labels),4))\n",
    "    print(\"The jaccard score is:\",round(jaccard_score(labels, Ylabels, average='weighted'),4))\n",
    "    print(\"The purity is:\",round(purity_score(Ylabels,labels),2),\"%\")\n",
    "    print(\"The accuracy score is:\",round(accuracy_score(Ylabels,labels),2))\n",
    "    print(classification_report(labels,Ylabels))"
   ]
  },
  {
   "cell_type": "code",
   "execution_count": 93,
   "id": "388d6f18",
   "metadata": {},
   "outputs": [
    {
     "name": "stdout",
     "output_type": "stream",
     "text": [
      "Init: initializing centroids\n",
      "Init: initializing clusters\n",
      "Starting iterations...\n",
      "Run 1, iteration: 1/100, moves: 42, cost: 2176.0\n",
      "Init: initializing centroids\n",
      "Init: initializing clusters\n",
      "Starting iterations...\n",
      "Run 2, iteration: 1/100, moves: 103, cost: 2144.0\n",
      "Init: initializing centroids\n",
      "Init: initializing clusters\n",
      "Starting iterations...\n",
      "Run 3, iteration: 1/100, moves: 75, cost: 2301.0\n",
      "Run 3, iteration: 2/100, moves: 0, cost: 2301.0\n",
      "Init: initializing centroids\n",
      "Init: initializing clusters\n",
      "Starting iterations...\n",
      "Run 4, iteration: 1/100, moves: 263, cost: 2213.0\n",
      "Run 4, iteration: 2/100, moves: 2, cost: 2213.0\n",
      "Init: initializing centroids\n",
      "Init: initializing clusters\n",
      "Starting iterations...\n",
      "Run 5, iteration: 1/100, moves: 18, cost: 2245.0\n",
      "Best run was number 2\n",
      "**************************************************\n",
      "The adjusted Rand score is: 0.083\n",
      "The adjusted Mutual info score is: 0.1539\n",
      "The jaccard score is: 0.0692\n",
      "The purity is: 50.67 %\n",
      "The accuracy score is: 0.13\n",
      "              precision    recall  f1-score   support\n",
      "\n",
      "           0       0.00      0.00      0.00         0\n",
      "           1       0.38      0.43      0.40       350\n",
      "           2       0.01      0.02      0.02       235\n",
      "           3       0.00      0.00      0.00        97\n",
      "           4       0.12      0.33      0.18        84\n",
      "           5       0.00      0.00      0.00       657\n",
      "\n",
      "    accuracy                           0.13      1423\n",
      "   macro avg       0.09      0.13      0.10      1423\n",
      "weighted avg       0.10      0.13      0.11      1423\n",
      "\n"
     ]
    },
    {
     "name": "stderr",
     "output_type": "stream",
     "text": [
      "C:\\Users\\bellal\\Anaconda3\\lib\\site-packages\\sklearn\\metrics\\_classification.py:1245: UndefinedMetricWarning: Precision and F-score are ill-defined and being set to 0.0 in labels with no predicted samples. Use `zero_division` parameter to control this behavior.\n",
      "  _warn_prf(average, modifier, msg_start, len(result))\n",
      "C:\\Users\\bellal\\Anaconda3\\lib\\site-packages\\sklearn\\metrics\\_classification.py:1245: UndefinedMetricWarning: Recall and F-score are ill-defined and being set to 0.0 in labels with no true samples. Use `zero_division` parameter to control this behavior.\n",
      "  _warn_prf(average, modifier, msg_start, len(result))\n",
      "C:\\Users\\bellal\\Anaconda3\\lib\\site-packages\\sklearn\\metrics\\_classification.py:1245: UndefinedMetricWarning: Precision and F-score are ill-defined and being set to 0.0 in labels with no predicted samples. Use `zero_division` parameter to control this behavior.\n",
      "  _warn_prf(average, modifier, msg_start, len(result))\n",
      "C:\\Users\\bellal\\Anaconda3\\lib\\site-packages\\sklearn\\metrics\\_classification.py:1245: UndefinedMetricWarning: Recall and F-score are ill-defined and being set to 0.0 in labels with no true samples. Use `zero_division` parameter to control this behavior.\n",
      "  _warn_prf(average, modifier, msg_start, len(result))\n",
      "C:\\Users\\bellal\\Anaconda3\\lib\\site-packages\\sklearn\\metrics\\_classification.py:1245: UndefinedMetricWarning: Precision and F-score are ill-defined and being set to 0.0 in labels with no predicted samples. Use `zero_division` parameter to control this behavior.\n",
      "  _warn_prf(average, modifier, msg_start, len(result))\n",
      "C:\\Users\\bellal\\Anaconda3\\lib\\site-packages\\sklearn\\metrics\\_classification.py:1245: UndefinedMetricWarning: Recall and F-score are ill-defined and being set to 0.0 in labels with no true samples. Use `zero_division` parameter to control this behavior.\n",
      "  _warn_prf(average, modifier, msg_start, len(result))\n"
     ]
    }
   ],
   "source": [
    "from kmodes.kmodes import KModes\n",
    "\n",
    "model = KModes(n_clusters=5, init = \"random\", n_init = 5, verbose=1)\n",
    "Ylabels = model.fit_predict(X)\n",
    "\n",
    "print('*'*50)\n",
    "eva(labels,Ylabels)"
   ]
  },
  {
   "cell_type": "code",
   "execution_count": 94,
   "id": "8eff08b7",
   "metadata": {},
   "outputs": [
    {
     "name": "stdout",
     "output_type": "stream",
     "text": [
      "The adjusted Rand score is: 0.0544\n",
      "The adjusted Mutual info score is: 0.1744\n",
      "The jaccard score is: 0.0016\n",
      "The purity is: 47.01 %\n",
      "The accuracy score is: 0.01\n",
      "              precision    recall  f1-score   support\n",
      "\n",
      "           0       0.00      0.00      0.00         0\n",
      "           1       0.00      0.00      0.00       350\n",
      "           2       0.00      0.00      0.00       235\n",
      "           3       0.03      0.13      0.04        97\n",
      "           4       0.00      0.00      0.00        84\n",
      "           5       0.00      0.00      0.00       657\n",
      "\n",
      "    accuracy                           0.01      1423\n",
      "   macro avg       0.00      0.02      0.01      1423\n",
      "weighted avg       0.00      0.01      0.00      1423\n",
      "\n"
     ]
    },
    {
     "name": "stderr",
     "output_type": "stream",
     "text": [
      "C:\\Users\\bellal\\Anaconda3\\lib\\site-packages\\sklearn\\metrics\\_classification.py:1245: UndefinedMetricWarning: Precision and F-score are ill-defined and being set to 0.0 in labels with no predicted samples. Use `zero_division` parameter to control this behavior.\n",
      "  _warn_prf(average, modifier, msg_start, len(result))\n",
      "C:\\Users\\bellal\\Anaconda3\\lib\\site-packages\\sklearn\\metrics\\_classification.py:1245: UndefinedMetricWarning: Recall and F-score are ill-defined and being set to 0.0 in labels with no true samples. Use `zero_division` parameter to control this behavior.\n",
      "  _warn_prf(average, modifier, msg_start, len(result))\n",
      "C:\\Users\\bellal\\Anaconda3\\lib\\site-packages\\sklearn\\metrics\\_classification.py:1245: UndefinedMetricWarning: Precision and F-score are ill-defined and being set to 0.0 in labels with no predicted samples. Use `zero_division` parameter to control this behavior.\n",
      "  _warn_prf(average, modifier, msg_start, len(result))\n",
      "C:\\Users\\bellal\\Anaconda3\\lib\\site-packages\\sklearn\\metrics\\_classification.py:1245: UndefinedMetricWarning: Recall and F-score are ill-defined and being set to 0.0 in labels with no true samples. Use `zero_division` parameter to control this behavior.\n",
      "  _warn_prf(average, modifier, msg_start, len(result))\n",
      "C:\\Users\\bellal\\Anaconda3\\lib\\site-packages\\sklearn\\metrics\\_classification.py:1245: UndefinedMetricWarning: Precision and F-score are ill-defined and being set to 0.0 in labels with no predicted samples. Use `zero_division` parameter to control this behavior.\n",
      "  _warn_prf(average, modifier, msg_start, len(result))\n",
      "C:\\Users\\bellal\\Anaconda3\\lib\\site-packages\\sklearn\\metrics\\_classification.py:1245: UndefinedMetricWarning: Recall and F-score are ill-defined and being set to 0.0 in labels with no true samples. Use `zero_division` parameter to control this behavior.\n",
      "  _warn_prf(average, modifier, msg_start, len(result))\n"
     ]
    }
   ],
   "source": [
    "from kmodes.kprototypes import KPrototypes\n",
    "\n",
    "model = KPrototypes(n_jobs = -1, n_clusters = 5, init = 'Huang', random_state = 0)\n",
    "Ylabels = model.fit_predict(X,categorical=[4])\n",
    "\n",
    "eva(labels,Ylabels)"
   ]
  },
  {
   "cell_type": "code",
   "execution_count": 95,
   "id": "c094f012",
   "metadata": {},
   "outputs": [
    {
     "name": "stdout",
     "output_type": "stream",
     "text": [
      "The adjusted Rand score is: 0.0573\n",
      "The adjusted Mutual info score is: 0.1724\n",
      "The jaccard score is: 0.0441\n",
      "The purity is: 46.38 %\n",
      "The accuracy score is: 0.09\n",
      "              precision    recall  f1-score   support\n",
      "\n",
      "           0       0.00      0.00      0.00         0\n",
      "           1       0.18      0.22      0.20       350\n",
      "           2       0.00      0.00      0.00       235\n",
      "           3       0.21      0.33      0.26        97\n",
      "           4       0.20      0.20      0.20        84\n",
      "           5       0.00      0.00      0.00       657\n",
      "\n",
      "    accuracy                           0.09      1423\n",
      "   macro avg       0.10      0.12      0.11      1423\n",
      "weighted avg       0.07      0.09      0.08      1423\n",
      "\n"
     ]
    },
    {
     "name": "stderr",
     "output_type": "stream",
     "text": [
      "C:\\Users\\bellal\\Anaconda3\\lib\\site-packages\\sklearn\\metrics\\_classification.py:1245: UndefinedMetricWarning: Precision and F-score are ill-defined and being set to 0.0 in labels with no predicted samples. Use `zero_division` parameter to control this behavior.\n",
      "  _warn_prf(average, modifier, msg_start, len(result))\n",
      "C:\\Users\\bellal\\Anaconda3\\lib\\site-packages\\sklearn\\metrics\\_classification.py:1245: UndefinedMetricWarning: Recall and F-score are ill-defined and being set to 0.0 in labels with no true samples. Use `zero_division` parameter to control this behavior.\n",
      "  _warn_prf(average, modifier, msg_start, len(result))\n",
      "C:\\Users\\bellal\\Anaconda3\\lib\\site-packages\\sklearn\\metrics\\_classification.py:1245: UndefinedMetricWarning: Precision and F-score are ill-defined and being set to 0.0 in labels with no predicted samples. Use `zero_division` parameter to control this behavior.\n",
      "  _warn_prf(average, modifier, msg_start, len(result))\n",
      "C:\\Users\\bellal\\Anaconda3\\lib\\site-packages\\sklearn\\metrics\\_classification.py:1245: UndefinedMetricWarning: Recall and F-score are ill-defined and being set to 0.0 in labels with no true samples. Use `zero_division` parameter to control this behavior.\n",
      "  _warn_prf(average, modifier, msg_start, len(result))\n",
      "C:\\Users\\bellal\\Anaconda3\\lib\\site-packages\\sklearn\\metrics\\_classification.py:1245: UndefinedMetricWarning: Precision and F-score are ill-defined and being set to 0.0 in labels with no predicted samples. Use `zero_division` parameter to control this behavior.\n",
      "  _warn_prf(average, modifier, msg_start, len(result))\n",
      "C:\\Users\\bellal\\Anaconda3\\lib\\site-packages\\sklearn\\metrics\\_classification.py:1245: UndefinedMetricWarning: Recall and F-score are ill-defined and being set to 0.0 in labels with no true samples. Use `zero_division` parameter to control this behavior.\n",
      "  _warn_prf(average, modifier, msg_start, len(result))\n"
     ]
    }
   ],
   "source": [
    "from sklearn.cluster import AgglomerativeClustering\n",
    "\n",
    "model = AgglomerativeClustering(n_clusters=5)\n",
    "Ylabels = model.fit_predict(X)\n",
    "\n",
    "eva(labels,Ylabels)"
   ]
  },
  {
   "cell_type": "code",
   "execution_count": 96,
   "id": "c12e1ac9",
   "metadata": {},
   "outputs": [
    {
     "name": "stdout",
     "output_type": "stream",
     "text": [
      "The adjusted Rand score is: 0.0573\n",
      "The adjusted Mutual info score is: 0.1724\n",
      "The jaccard score is: 0.0955\n",
      "The purity is: 46.38 %\n",
      "The accuracy score is: 0.23\n",
      "              precision    recall  f1-score   support\n",
      "\n",
      "           0       0.00      0.00      0.00         0\n",
      "           1       0.37      0.78      0.50       350\n",
      "           2       0.00      0.00      0.00       235\n",
      "           3       0.10      0.43      0.17        97\n",
      "           4       0.20      0.20      0.20        84\n",
      "           5       0.00      0.00      0.00       657\n",
      "\n",
      "    accuracy                           0.23      1423\n",
      "   macro avg       0.11      0.24      0.15      1423\n",
      "weighted avg       0.11      0.23      0.15      1423\n",
      "\n"
     ]
    },
    {
     "name": "stderr",
     "output_type": "stream",
     "text": [
      "C:\\Users\\bellal\\Anaconda3\\lib\\site-packages\\sklearn\\metrics\\_classification.py:1245: UndefinedMetricWarning: Precision and F-score are ill-defined and being set to 0.0 in labels with no predicted samples. Use `zero_division` parameter to control this behavior.\n",
      "  _warn_prf(average, modifier, msg_start, len(result))\n",
      "C:\\Users\\bellal\\Anaconda3\\lib\\site-packages\\sklearn\\metrics\\_classification.py:1245: UndefinedMetricWarning: Recall and F-score are ill-defined and being set to 0.0 in labels with no true samples. Use `zero_division` parameter to control this behavior.\n",
      "  _warn_prf(average, modifier, msg_start, len(result))\n",
      "C:\\Users\\bellal\\Anaconda3\\lib\\site-packages\\sklearn\\metrics\\_classification.py:1245: UndefinedMetricWarning: Precision and F-score are ill-defined and being set to 0.0 in labels with no predicted samples. Use `zero_division` parameter to control this behavior.\n",
      "  _warn_prf(average, modifier, msg_start, len(result))\n",
      "C:\\Users\\bellal\\Anaconda3\\lib\\site-packages\\sklearn\\metrics\\_classification.py:1245: UndefinedMetricWarning: Recall and F-score are ill-defined and being set to 0.0 in labels with no true samples. Use `zero_division` parameter to control this behavior.\n",
      "  _warn_prf(average, modifier, msg_start, len(result))\n",
      "C:\\Users\\bellal\\Anaconda3\\lib\\site-packages\\sklearn\\metrics\\_classification.py:1245: UndefinedMetricWarning: Precision and F-score are ill-defined and being set to 0.0 in labels with no predicted samples. Use `zero_division` parameter to control this behavior.\n",
      "  _warn_prf(average, modifier, msg_start, len(result))\n",
      "C:\\Users\\bellal\\Anaconda3\\lib\\site-packages\\sklearn\\metrics\\_classification.py:1245: UndefinedMetricWarning: Recall and F-score are ill-defined and being set to 0.0 in labels with no true samples. Use `zero_division` parameter to control this behavior.\n",
      "  _warn_prf(average, modifier, msg_start, len(result))\n"
     ]
    }
   ],
   "source": [
    "from sklearn.cluster import Birch\n",
    "\n",
    "model = Birch(threshold=0.01, n_clusters=5)\n",
    "Ylabels = model.fit_predict(X)\n",
    "\n",
    "eva(labels,Ylabels)"
   ]
  },
  {
   "cell_type": "code",
   "execution_count": 97,
   "id": "4434ea08",
   "metadata": {},
   "outputs": [
    {
     "name": "stderr",
     "output_type": "stream",
     "text": [
      "C:\\Users\\bellal\\Anaconda3\\lib\\site-packages\\sklearn\\cluster\\_kmeans.py:887: UserWarning: MiniBatchKMeans is known to have a memory leak on Windows with MKL, when there are less chunks than available threads. You can prevent it by setting batch_size >= 2048 or by setting the environment variable OMP_NUM_THREADS=1\n",
      "  warnings.warn(\n"
     ]
    },
    {
     "name": "stdout",
     "output_type": "stream",
     "text": [
      "The adjusted Rand score is: 0.0513\n",
      "The adjusted Mutual info score is: 0.1632\n",
      "The jaccard score is: 0.0064\n",
      "The purity is: 47.22 %\n",
      "The accuracy score is: 0.02\n",
      "              precision    recall  f1-score   support\n",
      "\n",
      "           0       0.00      0.00      0.00         0\n",
      "           1       0.01      0.01      0.01       350\n",
      "           2       0.00      0.00      0.00       235\n",
      "           3       0.05      0.27      0.08        97\n",
      "           4       0.13      0.05      0.07        84\n",
      "           5       0.00      0.00      0.00       657\n",
      "\n",
      "    accuracy                           0.02      1423\n",
      "   macro avg       0.03      0.05      0.03      1423\n",
      "weighted avg       0.01      0.02      0.01      1423\n",
      "\n"
     ]
    },
    {
     "name": "stderr",
     "output_type": "stream",
     "text": [
      "C:\\Users\\bellal\\Anaconda3\\lib\\site-packages\\sklearn\\metrics\\_classification.py:1245: UndefinedMetricWarning: Precision and F-score are ill-defined and being set to 0.0 in labels with no predicted samples. Use `zero_division` parameter to control this behavior.\n",
      "  _warn_prf(average, modifier, msg_start, len(result))\n",
      "C:\\Users\\bellal\\Anaconda3\\lib\\site-packages\\sklearn\\metrics\\_classification.py:1245: UndefinedMetricWarning: Recall and F-score are ill-defined and being set to 0.0 in labels with no true samples. Use `zero_division` parameter to control this behavior.\n",
      "  _warn_prf(average, modifier, msg_start, len(result))\n",
      "C:\\Users\\bellal\\Anaconda3\\lib\\site-packages\\sklearn\\metrics\\_classification.py:1245: UndefinedMetricWarning: Precision and F-score are ill-defined and being set to 0.0 in labels with no predicted samples. Use `zero_division` parameter to control this behavior.\n",
      "  _warn_prf(average, modifier, msg_start, len(result))\n",
      "C:\\Users\\bellal\\Anaconda3\\lib\\site-packages\\sklearn\\metrics\\_classification.py:1245: UndefinedMetricWarning: Recall and F-score are ill-defined and being set to 0.0 in labels with no true samples. Use `zero_division` parameter to control this behavior.\n",
      "  _warn_prf(average, modifier, msg_start, len(result))\n",
      "C:\\Users\\bellal\\Anaconda3\\lib\\site-packages\\sklearn\\metrics\\_classification.py:1245: UndefinedMetricWarning: Precision and F-score are ill-defined and being set to 0.0 in labels with no predicted samples. Use `zero_division` parameter to control this behavior.\n",
      "  _warn_prf(average, modifier, msg_start, len(result))\n",
      "C:\\Users\\bellal\\Anaconda3\\lib\\site-packages\\sklearn\\metrics\\_classification.py:1245: UndefinedMetricWarning: Recall and F-score are ill-defined and being set to 0.0 in labels with no true samples. Use `zero_division` parameter to control this behavior.\n",
      "  _warn_prf(average, modifier, msg_start, len(result))\n"
     ]
    }
   ],
   "source": [
    "from sklearn.cluster import MiniBatchKMeans\n",
    "\n",
    "model = MiniBatchKMeans(n_clusters=5)\n",
    "Ylabels = model.fit_predict(X)\n",
    "\n",
    "eva(labels,Ylabels)"
   ]
  },
  {
   "cell_type": "code",
   "execution_count": 98,
   "id": "15a2a6e1",
   "metadata": {},
   "outputs": [
    {
     "name": "stdout",
     "output_type": "stream",
     "text": [
      "The adjusted Rand score is: 0.0513\n",
      "The adjusted Mutual info score is: 0.1632\n",
      "The jaccard score is: 0.0064\n",
      "The purity is: 47.22 %\n",
      "The accuracy score is: 0.02\n",
      "              precision    recall  f1-score   support\n",
      "\n",
      "           0       0.00      0.00      0.00         0\n",
      "           1       0.01      0.01      0.01       350\n",
      "           2       0.00      0.00      0.00       235\n",
      "           3       0.05      0.27      0.08        97\n",
      "           4       0.13      0.05      0.07        84\n",
      "           5       0.00      0.00      0.00       657\n",
      "\n",
      "    accuracy                           0.02      1423\n",
      "   macro avg       0.03      0.05      0.03      1423\n",
      "weighted avg       0.01      0.02      0.01      1423\n",
      "\n"
     ]
    },
    {
     "name": "stderr",
     "output_type": "stream",
     "text": [
      "C:\\Users\\bellal\\Anaconda3\\lib\\site-packages\\sklearn\\metrics\\_classification.py:1245: UndefinedMetricWarning: Precision and F-score are ill-defined and being set to 0.0 in labels with no predicted samples. Use `zero_division` parameter to control this behavior.\n",
      "  _warn_prf(average, modifier, msg_start, len(result))\n",
      "C:\\Users\\bellal\\Anaconda3\\lib\\site-packages\\sklearn\\metrics\\_classification.py:1245: UndefinedMetricWarning: Recall and F-score are ill-defined and being set to 0.0 in labels with no true samples. Use `zero_division` parameter to control this behavior.\n",
      "  _warn_prf(average, modifier, msg_start, len(result))\n",
      "C:\\Users\\bellal\\Anaconda3\\lib\\site-packages\\sklearn\\metrics\\_classification.py:1245: UndefinedMetricWarning: Precision and F-score are ill-defined and being set to 0.0 in labels with no predicted samples. Use `zero_division` parameter to control this behavior.\n",
      "  _warn_prf(average, modifier, msg_start, len(result))\n",
      "C:\\Users\\bellal\\Anaconda3\\lib\\site-packages\\sklearn\\metrics\\_classification.py:1245: UndefinedMetricWarning: Recall and F-score are ill-defined and being set to 0.0 in labels with no true samples. Use `zero_division` parameter to control this behavior.\n",
      "  _warn_prf(average, modifier, msg_start, len(result))\n",
      "C:\\Users\\bellal\\Anaconda3\\lib\\site-packages\\sklearn\\metrics\\_classification.py:1245: UndefinedMetricWarning: Precision and F-score are ill-defined and being set to 0.0 in labels with no predicted samples. Use `zero_division` parameter to control this behavior.\n",
      "  _warn_prf(average, modifier, msg_start, len(result))\n",
      "C:\\Users\\bellal\\Anaconda3\\lib\\site-packages\\sklearn\\metrics\\_classification.py:1245: UndefinedMetricWarning: Recall and F-score are ill-defined and being set to 0.0 in labels with no true samples. Use `zero_division` parameter to control this behavior.\n",
      "  _warn_prf(average, modifier, msg_start, len(result))\n"
     ]
    }
   ],
   "source": [
    "model = KMeans(n_clusters=5,init='random')\n",
    "Ylabelsl = model.fit_predict(X)\n",
    "\n",
    "eva(labels,Ylabels)"
   ]
  },
  {
   "cell_type": "code",
   "execution_count": 99,
   "id": "ba412b25",
   "metadata": {},
   "outputs": [
    {
     "name": "stdout",
     "output_type": "stream",
     "text": [
      " X_train.shape=(1138, 5)\n",
      " y_train.shape=(1138,)\n",
      " X_test.shape=(285, 5)\n",
      " y_test.shape=(285,)\n"
     ]
    }
   ],
   "source": [
    "X = np.squeeze(df)\n",
    "y = np.squeeze(labels)\n",
    "X_train, X_test, y_train, y_test = train_test_split(X,y,test_size = 0.2, random_state=100)\n",
    "print(' X_train.shape={}\\n y_train.shape={}\\n X_test.shape={}\\n y_test.shape={}'.format(X_train.shape,y_train.shape,X_test.shape,y_test.shape))"
   ]
  },
  {
   "cell_type": "code",
   "execution_count": 100,
   "id": "5e067458",
   "metadata": {},
   "outputs": [
    {
     "name": "stdout",
     "output_type": "stream",
     "text": [
      "The adjusted Rand score is: 0.1404\n",
      "The adjusted Mutual info score is: 0.2083\n",
      "The jaccard score is: 0.3505\n",
      "The purity is: 55.09 %\n",
      "The accuracy score is: 0.55\n",
      "              precision    recall  f1-score   support\n",
      "\n",
      "           1       0.65      0.35      0.45        75\n",
      "           2       0.49      0.79      0.60        47\n",
      "           3       0.00      0.00      0.00        21\n",
      "           4       0.00      0.00      0.00        19\n",
      "           5       0.55      0.76      0.64       123\n",
      "\n",
      "    accuracy                           0.55       285\n",
      "   macro avg       0.34      0.38      0.34       285\n",
      "weighted avg       0.49      0.55      0.49       285\n",
      "\n"
     ]
    },
    {
     "name": "stderr",
     "output_type": "stream",
     "text": [
      "C:\\Users\\bellal\\Anaconda3\\lib\\site-packages\\sklearn\\linear_model\\_logistic.py:763: ConvergenceWarning: lbfgs failed to converge (status=1):\n",
      "STOP: TOTAL NO. of ITERATIONS REACHED LIMIT.\n",
      "\n",
      "Increase the number of iterations (max_iter) or scale the data as shown in:\n",
      "    https://scikit-learn.org/stable/modules/preprocessing.html\n",
      "Please also refer to the documentation for alternative solver options:\n",
      "    https://scikit-learn.org/stable/modules/linear_model.html#logistic-regression\n",
      "  n_iter_i = _check_optimize_result(\n",
      "C:\\Users\\bellal\\Anaconda3\\lib\\site-packages\\sklearn\\metrics\\_classification.py:1245: UndefinedMetricWarning: Precision and F-score are ill-defined and being set to 0.0 in labels with no predicted samples. Use `zero_division` parameter to control this behavior.\n",
      "  _warn_prf(average, modifier, msg_start, len(result))\n",
      "C:\\Users\\bellal\\Anaconda3\\lib\\site-packages\\sklearn\\metrics\\_classification.py:1245: UndefinedMetricWarning: Precision and F-score are ill-defined and being set to 0.0 in labels with no predicted samples. Use `zero_division` parameter to control this behavior.\n",
      "  _warn_prf(average, modifier, msg_start, len(result))\n",
      "C:\\Users\\bellal\\Anaconda3\\lib\\site-packages\\sklearn\\metrics\\_classification.py:1245: UndefinedMetricWarning: Precision and F-score are ill-defined and being set to 0.0 in labels with no predicted samples. Use `zero_division` parameter to control this behavior.\n",
      "  _warn_prf(average, modifier, msg_start, len(result))\n"
     ]
    }
   ],
   "source": [
    "logreg = LogisticRegression()\n",
    "logreg.fit(X_train,y_train)\n",
    "y_pred = logreg.predict(X_test)\n",
    "\n",
    "eva(y_test,y_pred)"
   ]
  },
  {
   "cell_type": "code",
   "execution_count": null,
   "id": "85a762cb",
   "metadata": {},
   "outputs": [],
   "source": []
  }
 ],
 "metadata": {
  "kernelspec": {
   "display_name": "Python 3",
   "language": "python",
   "name": "python3"
  },
  "language_info": {
   "codemirror_mode": {
    "name": "ipython",
    "version": 3
   },
   "file_extension": ".py",
   "mimetype": "text/x-python",
   "name": "python",
   "nbconvert_exporter": "python",
   "pygments_lexer": "ipython3",
   "version": "3.8.8"
  }
 },
 "nbformat": 4,
 "nbformat_minor": 5
}
